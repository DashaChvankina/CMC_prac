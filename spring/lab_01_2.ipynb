{
  "cells": [
    {
      "cell_type": "markdown",
      "metadata": {
        "id": "u5SKFniei5Vq"
      },
      "source": [
        "# 1 практическое задание. Полносвязная нейронная сеть на `numpy`.\n",
        "\n",
        "## Практикум на ЭВМ для 317 группы, весна 2021\n",
        "\n",
        "#### Фамилия, имя: \n",
        "\n",
        "Дата выдачи: <span style=\"color:red\">__17 февраля 03:00__</span>.\n",
        "\n",
        "Мягкий дедлайн: <span style=\"color:red\">__10 марта 23:59__</span>.\n",
        "\n",
        "Стоимость: __10 баллов__ (основная часть заданий) + __3 балла__ (дополнительные задания).\n",
        "\n",
        "<span style=\"color:red\">__В ноутбуке все клетки должны выполняться без ошибок при последовательном их выполнении.__</span>"
      ]
    },
    {
      "cell_type": "code",
      "execution_count": 2,
      "metadata": {
        "ExecuteTime": {
          "end_time": "2021-03-03T14:44:48.909044Z",
          "start_time": "2021-03-03T14:44:48.683650Z"
        },
        "id": "913BQGm3i5Vs"
      },
      "outputs": [],
      "source": [
        "import numpy as np"
      ]
    },
    {
      "cell_type": "markdown",
      "metadata": {
        "id": "vxNyv0wTi5Vt"
      },
      "source": [
        "## Теоретическая часть (3 балла)"
      ]
    },
    {
      "cell_type": "markdown",
      "metadata": {
        "id": "v5UNJDLWi5Vu"
      },
      "source": [
        "В этом блоке вам нужно решить 3 задания."
      ]
    },
    {
      "cell_type": "markdown",
      "metadata": {
        "id": "p7IT_FKsi5Vu"
      },
      "source": [
        "### Задание 1. Градиенты для слоя Batch normalization (1.5 балла)\n",
        "\n",
        "Рассмотрим слой Batch normalization. Пусть на вход этого слоя был подан батч из $n$ объектов, при этом у всех объектов по 1 признаку. Представим вход BN слоя в виде $X \\in \\mathbb{R}^{n \\times 1}$.\n",
        "\n",
        "Тогда в этом слое производятся следующие вычисления:\n",
        "\n",
        "$$ \\mu = \\frac1n \\sum_{i=1}^{n} X_i $$\n",
        "\n",
        "$$ \\sigma^2 = \\frac1n \\sum_{i=1}^{n} \\left( X_i - \\mu \\right) ^2 $$\n",
        "\n",
        "$$ \\tilde{y_i} = \\frac{X_i - \\mu}{\\sqrt{\\sigma^2 + \\varepsilon}} $$\n",
        "\n",
        "$$ y_i = \\gamma \\tilde{y_i} + \\delta $$\n",
        "\n",
        "Выходом BN слоя является $y_i$, а $\\gamma$ и $\\delta$ в нем — параметры, которые подбираются во время обучения вместе с другими параметрами нейронной сети (наряду, например, с весами линейного слоя).\n",
        "\n",
        "Рассмотрим нейронную сеть, в которой есть BN слой. Предположим, что вычисления в нейронной завершаются подсчетом функции потерь $\\mathcal{L}$. Пусть мы выполнили прямой проход по нейронной сети и сейчас делаем обратный проход с помощью метода обратного распространения ошибки. Пусть BN слою пришел градиент функции потерь по выходу BN слоя ($\\nabla_{y} \\mathcal{L}$).\n",
        "\n",
        "В этом задании вам нужно записать вычисление градиента функции потерь по параметрам слоя BN $\\gamma$ и $\\delta$ ($\\nabla_{\\gamma} \\mathcal{L}$, $\\nabla_{\\delta} \\mathcal{L}$) через $\\nabla_{y} \\mathcal{L}$, а также вам нужно записать вычисление градиента функции потерь по входу слоя BN $X$ ($\\nabla_{X} \\mathcal{L}$) через $\\nabla_{y} \\mathcal{L}$.\n",
        "\n",
        "Хочу заметить, в данном задании мы рассматриваем объекты всего с 1 признаком, чтобы упростить выкладки."
      ]
    },
    {
      "cell_type": "markdown",
      "metadata": {
        "id": "HUEPc6cfi5Vv"
      },
      "source": [
        "__Ваше решение:__\n",
        "\n",
        "$d\\mathcal{L} = \\nabla_{y}\\mathcal{L}^T dy \\;\\;\\;\\;\\;\\;\\;\\;\\;\\;\\;\\;\\;\\;\\;\\;\\;\\;(1)$\n",
        "\n",
        "$dy = \\gamma d\\tilde{y} + d\\gamma \\tilde{y} + e d\\delta \\;\\;\\;\\;\\; (2)$\n",
        "\n",
        "$dy = \\gamma d\\tilde{y}$\n",
        "\n",
        "Вычислим $d\\tilde{y}:$\n",
        "$$ \\tilde{y} = \\frac{X - \\mu}{\\sqrt{\\sigma^2 + \\varepsilon}} $$\n",
        "\n",
        "$$\n",
        "d\\tilde{y} = \\frac{(dx - ed\\mu) \\sqrt{\\sigma^{2} + ɛ} - (x - e\\mu) \\frac{1}{2} \\frac{1}{(\\sigma^{2} + ɛ)^{0.5}} d\\sigma^{2} }{\\sigma^2 + ɛ}\n",
        "$$\n",
        "где $e= (1, \\dots, 1)^{T}$ - единичный вектор.\n",
        "\n",
        "Вычислим $d\\mu:$\n",
        "\n",
        "$$ \\mu = \\frac1n \\sum_{i=1}^{n} X_i = \\frac1n e^{T}X, d\\mu = \\frac1n e^{T}dX $$\n",
        "\n",
        "Вычислим $dσ^{2}:$\n",
        "\n",
        "$$ \\sigma^{2} = \\frac1n \\sum_{i=1}^{n} \\left( X_i - \\mu \\right) ^2 = \\frac1n \\| X-e\\mu\\|^{2}$$\n",
        "\n",
        "$$ d\\sigma^{2} = \\frac1n d\\langle X- e^{T}\\mu, X- e^{T}\\mu \\rangle = \\frac2n \\langle dX- e^{T}d(\\mu), X- e^{T}\\mu \\rangle = \\frac2n \\langle dX- \\frac1n ee^{T}dX, X- e^{T}\\mu \\rangle = \\frac2n ( X- e^{T}\\mu)^{T}(I - \\frac1n ee^{T})dX  $$\n",
        "\n",
        "Тогда \n",
        "\n",
        "$$\n",
        "d\\tilde{y} = \\frac{dX - \\frac1n ee^{T}dX}{\\sqrt{\\sigma^{2} + ɛ}} - \\frac12 \\frac{ (x - e\\mu) \\frac2n( X- e^{T}\\mu)^{T}(I - \\frac1n ee^{T})dX}{(\\sigma^{2} + ɛ)^{3/2}} \n",
        "$$\n",
        "\n",
        "$$\n",
        "d\\mathcal{L} = \\nabla_{y}\\mathcal{L}^T dy = \\nabla_{y}\\mathcal{L}^T \\gamma d\\tilde{y} = \\gamma \\nabla_{y}\\mathcal{L}^T \\frac{1}{\\sqrt{(\\sigma^{2} + ɛ)}}((I - \\frac1n ee^{T})- \\frac{(x - e\\mu)( X- e^{T}\\mu)^{T}(I - \\frac1n ee^{T})}{n(\\sigma^{2} + ɛ)})dX\n",
        "$$\n",
        "\n",
        "Наконец, подставим (2) в (1):\n",
        "$d\\mathcal{L} = \\nabla_{y}\\mathcal{L}^T(\\gamma d\\tilde{y} + d\\gamma \\tilde{y} + e d\\delta) = \\nabla_{y}\\mathcal{L}^T \\gamma d\\tilde{y}+ \\nabla_{y}\\mathcal{L}^T \\tilde{y} d\\gamma+ \\nabla_{y}\\mathcal{L}^T e d\\delta$.\\\n",
        "Тогда $\\nabla_{\\gamma}\\mathcal{L} = \\tilde{y}^T \\nabla_{y}\\mathcal{L} \\;\\;\\;$ и $\\;\\;\\; \\nabla_{\\delta}\\mathcal{L} = e^T \\nabla_{y}\\mathcal{L}$\n",
        "\n",
        "**Oтвет:**\n",
        "\n",
        "$$\\nabla_{\\delta}\\mathcal{L} = e^T \\nabla_{y}\\mathcal{L}$$\n",
        "\n",
        "$$ \\nabla_{\\gamma}\\mathcal{L} = \\tilde{y}^T \\nabla_{y}\\mathcal{L} $$\n",
        "\n",
        "$$ \\nabla_{X}\\mathcal{L} = \\frac{\\gamma}{\\sqrt{\\sigma^2 + \\varepsilon}} ((I - \\frac1n ee^{T})- \\frac{(I - \\frac1n ee^{T})(X - e\\mu)( X- e^{T}\\mu)^{T}}{n(\\sigma^{2} + ɛ)})\\nabla_{y}\\mathcal{L} = \\frac{\\gamma (I - \\frac1n ee^{T})}{\\sqrt{\\sigma^2 + \\varepsilon}} (I- \\frac{(X - e\\mu)( X- e^{T}\\mu)^{T}}{n(\\sigma^{2} + ɛ)})\\nabla_{y}\\mathcal{L} $$\n"
      ]
    },
    {
      "cell_type": "markdown",
      "metadata": {
        "id": "RRx37MKOi5Vv"
      },
      "source": [
        "### Задание 2. Вывод инициализации весов линейного слоя при использовании ReLU в качестве функции активации (1 балл)\n",
        "\n",
        "Рассмотрим полносвязную нейронную сеть с функцией активации $g(y)$. Пусть сеть состоит из $L$ слоев и размер входа слоя $l$ равен $n_l\\ \\ (l = \\overline{1, L})$.\n",
        "\n",
        "Обозначим за $x^l \\in \\mathbb{R}^{n_{l}}$ вход слоя $l$, за $y^l \\in \\mathbb{R}^{n_{l+1}}$ — выход слоя $l$, за $W^l \\in \\mathbb{R}^{n_{l+1} \\times n_{l}}$ — веса слоя $l$, за $b^l \\in \\mathbb{R}^{n_{l+1}}$ — вектор сдвига слоя $l$.\n",
        "\n",
        "Тогда\n",
        "$$y^l = W^l x^l + b^l,$$\n",
        "$$x^{l+1} = g(y^l).$$\n",
        "\n",
        "На паре вы выводили хорошую инициализацию для линейного слоя в случае, когда в качестве функции активации $g(y)$ в нейронной сети используется гиперболический тангенс $g(y) = \\tanh(y)$. Сейчас вам нужно сделать подобный вывод для случая, когда в сети в качестве функций активации используется $g(y) = ReLU(y) = \\max(0, y)$.\n",
        "\n",
        "Сделаем следующие предположения насчет того, как распределены веса $W^l$, вектор сдвига $b^l$, входной вектор $x^l$, выходной вектор $y^l$ линейного слоя и градиенты функции потерь $\\frac{\\partial L}{\\partial y^{l}}$ $(l = \\overline{1, L}$):\n",
        "\n",
        "1. Все компоненты в $W^l$ распределены одинаково и независимо друг от друга;\n",
        "2. Все компоненты в $y^l$ распределены одинаково и независимо друг от друга;\n",
        "3. Все компоненты в $x^l$ распределены одинаково и независимо друг от друга;\n",
        "4. Все компоненты в $\\frac{\\partial L}{\\partial y^{l}}$ распределены одинаково и независимо друг от друга;\n",
        "5. Все компоненты в $W^l$ и все компоненты в $x^l$ независимы друг от друга;\n",
        "6. Все компоненты в $W^l$ имеют четную плотность распределения (то есть симметричную относительно нуля: $p_{W^l}(-x) = p_{W^l}(x)$);\n",
        "7. Все компоненты в $W^l$ имеют конечное матожидание;\n",
        "8. Вектор $b^l$ инициализирован нулями.\n",
        "\n",
        "\n",
        "Подсказки:\n",
        "1. Из пунктов 6 и 7 следует, что все компоненты в $W^l$ имеют нулевое среднее ($\\mathbb{E} W^l_{ij} = 0\\ \\ \\forall i = \\overline{1, n_{l+1}}, j = \\overline{1, n_{l}}$) (докажите);\n",
        "2. Из пунктов 6 и 7 следует, что все компоненты в $y^l$ имеют нулевое среднее и четную плотность распределения (докажите)."
      ]
    },
    {
      "cell_type": "markdown",
      "metadata": {
        "id": "FlZExVlZi5Vw"
      },
      "source": [
        "__Ваше решение:__\n",
        "\n",
        "..."
      ]
    },
    {
      "cell_type": "markdown",
      "metadata": {
        "heading_collapsed": true,
        "id": "Nr98jCXci5Vx"
      },
      "source": [
        "### Задание 3. Почему функция активации $ReLU(y) = \\max(0, y)$ предпочтительней сигмоиды $\\sigma(y) = \\frac{1}{1 + \\exp(-y)}$ в нейронных сетях? (0.5 балла)\n",
        "\n",
        "Дайте развернутый ответ на вопрос \"Почему функция активации $ReLU(y) = \\max(0, y)$ предпочтительней сигмоиды $\\sigma(y) = \\frac{1}{1 + \\exp(-y)}$ в нейронных сетях?\""
      ]
    },
    {
      "cell_type": "markdown",
      "metadata": {
        "hidden": true,
        "id": "QhQSE6pqi5Vx"
      },
      "source": [
        "__Ваш ответ:__\n",
        "\n",
        "Заметим, что если градиент функции активации слишком маленький, то при обратном распространении в проессе обучения нейронной сети, это может привести к малым изменеям весов. Следовательно алгоритм будет долго обучаться или изменение весов будет настолько малым, что алгоритм остановиться раньше времени, то есть модель недообучиться.\n",
        "\n",
        "\n",
        "Расммотрим градиент двух функций активации:\n",
        "$ \\frac{\\partial ReLU(y)}{\\partial y} = [y > 0], \\frac{\\partial \\sigma(y)}{\\partial y} = \\sigma(y)(1 - \\sigma(y))$.\n",
        "Вспомним, что сигмоида выдает значения в диапозоне от 0 до 1, следовательно её градиент - в диапозоне от 0 до $\\frac14$. То есть градиенты будут уеньшаться в 4 раза, что может привести к затуханию градиента. А градиент функции ReLU будет равен 1 примерно на половине своих значений. "
      ]
    },
    {
      "cell_type": "markdown",
      "metadata": {
        "hidden": true,
        "id": "zv0J_bFEi5Vy"
      },
      "source": [
        "---"
      ]
    },
    {
      "cell_type": "markdown",
      "metadata": {
        "id": "N9PhWBAni5Vy"
      },
      "source": [
        "## Практическая часть (7 баллов)"
      ]
    },
    {
      "cell_type": "markdown",
      "metadata": {
        "heading_collapsed": true,
        "id": "YAvivrQEi5Vy"
      },
      "source": [
        "### Реализация нейронной сети (3 балла)"
      ]
    },
    {
      "cell_type": "markdown",
      "metadata": {
        "hidden": true,
        "id": "borTus5Di5Vy"
      },
      "source": [
        "В этом задании вы обучите полносвязную нейронную сеть распознавать рукописные цифры (а что же еще, если не их :), [почти] самостоятельно реализовав все составляющие алгоритма обучения и предсказания.\n",
        "\n",
        "Для начала нам понадобится реализовать прямой и обратный проход через слои. Наши слои будут соответствовать следующему интерфейсу (на примере \"тождественного\" слоя):"
      ]
    },
    {
      "cell_type": "code",
      "execution_count": 1,
      "metadata": {
        "ExecuteTime": {
          "end_time": "2021-03-03T14:44:48.924967Z",
          "start_time": "2021-03-03T14:44:48.912996Z"
        },
        "hidden": true,
        "id": "KMf8X2E5i5Vy"
      },
      "outputs": [],
      "source": [
        "class IdentityLayer:\n",
        "    \"\"\"\n",
        "    A building block. Each layer is capable of performing two things:\n",
        "\n",
        "    - Process input to get output:           \n",
        "    output = layer.forward(input)\n",
        "\n",
        "    - Propagate gradients through itself:    \n",
        "    grad_input = layer.backward(input, grad_output)\n",
        "\n",
        "    Some layers also have learnable parameters.\n",
        "\n",
        "    Modified code from cs.hse DL course *\n",
        "    \"\"\"\n",
        "    def __init__(self):\n",
        "        \"\"\"\n",
        "        Here you can initialize layer parameters (if any) \n",
        "        and auxiliary stuff. You should enumerate all parameters\n",
        "        in self.params\n",
        "        \"\"\"\n",
        "        # An identity layer does nothing\n",
        "        self.params = []\n",
        "        pass\n",
        "\n",
        "    def forward(self, input):\n",
        "        \"\"\"\n",
        "        Takes input data of shape [batch, input_units], \n",
        "        returns output data [batch, output_units]\n",
        "        \"\"\"\n",
        "        # An identity layer just returns whatever it gets as input.\n",
        "        self.input = input\n",
        "        return input\n",
        "\n",
        "    def backward(self, grad_output): \n",
        "        \"\"\"\n",
        "        Performs a backpropagation step through the layer, \n",
        "        with respect to the given input.\n",
        "\n",
        "        To compute loss gradients w.r.t input, \n",
        "        you need to apply chain rule (backprop):\n",
        "\n",
        "        d `loss` / d `input` = (d `loss` / d `layer`) * (d `layer` / d `input`)\n",
        "\n",
        "        Luckily, you already receive d `loss` / d `layer` in argument, \n",
        "        so you only need to multiply it by d `layer` / d `input`.\n",
        "\n",
        "        NB: Sometimes d `layer` / d `input` can be a 3D or even 4D tensor.\n",
        "        So it's better to write down the `loss` differential and extract\n",
        "        d `layer` / d `input` from it so that only 2D tensors were present.\n",
        "\n",
        "        The method returns:\n",
        "        * gradient w.r.t input (will be passed to \n",
        "          previous layer's backward method)\n",
        "        * flattened gradient w.r.t. parameters (with .ravel() \n",
        "          applied to each gradient). \n",
        "          If there are no params, return []\n",
        "        \"\"\"\n",
        "        # The gradient of an identity layer is precisely grad_output\n",
        "        input_dim = self.input.shape[1]\n",
        "\n",
        "        d_layer_d_input = np.eye(input_dim)\n",
        "\n",
        "        return np.dot(grad_output, d_layer_d_input), [] # chain rule"
      ]
    },
    {
      "cell_type": "markdown",
      "metadata": {
        "id": "yI9co5Wli5Vz"
      },
      "source": [
        "### Слой нелинейности ReLU\n",
        "\n",
        "Для начала реализуем слой нелинейности $ReLU(y) = \\max(0, y)$. Параметров у слоя нет. Метод `forward` должен вернуть результат поэлементного применения $ReLU$ к входному массиву, метод `backward` — градиент функции потерь по входу слоя. В нуле будем считать производную равной 0. Обратите внимание, что при обратном проходе могут понадобиться величины, посчитанные во время прямого прохода, поэтому их стоит сохранить как атрибут класса."
      ]
    },
    {
      "cell_type": "code",
      "execution_count": 3,
      "metadata": {
        "ExecuteTime": {
          "end_time": "2021-03-03T14:44:48.939926Z",
          "start_time": "2021-03-03T14:44:48.928957Z"
        },
        "id": "MB44uGrEi5Vz"
      },
      "outputs": [],
      "source": [
        "class ReLU:\n",
        "    \"\"\"\n",
        "    Modified code from cs.hse DL course *\n",
        "    \"\"\"\n",
        "\n",
        "    val = None\n",
        "    def __init__(self):\n",
        "        \"\"\"ReLU layer simply applies elementwise rectified linear unit to all inputs\"\"\"\n",
        "        self.params = [] # ReLU has no parameters\n",
        "\n",
        "    def forward(self, input):\n",
        "        \"\"\"Apply elementwise ReLU to [batch, num_units] matrix\"\"\"\n",
        "        ### your code here\n",
        "        # self.val = np.maximum(input, np.zeros(input.shape))\n",
        "        self.val = input * (input > 0)\n",
        "        # print(self.val.shape)\n",
        "        return self.val\n",
        "        \n",
        "    def backward(self, grad_output):\n",
        "        \"\"\"Compute gradient of loss w.r.t. ReLU input\n",
        "        grad_output shape: [batch, num_units]\n",
        "        output 1 shape: [batch, num_units]\n",
        "        output 2: []\n",
        "        \"\"\"\n",
        "        ### your code here\n",
        "        grad_output[np.where(self.val <= 0)] = 0\n",
        "        return grad_output, []\n",
        "    \n",
        "    def __repr__(self):\n",
        "        return 'Relu()'"
      ]
    },
    {
      "cell_type": "markdown",
      "metadata": {
        "id": "zPtBwRxki5Vz"
      },
      "source": [
        "### Полносвязный слой\n",
        "Далее реализуем полносвязный слой без нелинейности. У слоя два параметра: матрица весов и вектор сдвига.\n",
        "\n",
        "Обратите внимание на второй аргумент: в нем надо возвращать градиент по всем параметрам в одномерном виде. Для этого надо сначала применить `.ravel()` ко всем градиентам, а затем воспользоваться `np.r_`:"
      ]
    },
    {
      "cell_type": "code",
      "execution_count": 4,
      "metadata": {
        "ExecuteTime": {
          "end_time": "2021-03-03T14:44:48.971838Z",
          "start_time": "2021-03-03T14:44:48.943913Z"
        },
        "colab": {
          "base_uri": "https://localhost:8080/"
        },
        "id": "LRfBJ6kJi5V0",
        "outputId": "cd81dde3-e2f8-47e2-c831-5f22f7418716"
      },
      "outputs": [
        {
          "data": {
            "text/plain": [
              "array([1., 0., 0., 0., 1., 0., 0., 0., 1., 0., 1., 2., 3.])"
            ]
          },
          "execution_count": 4,
          "metadata": {},
          "output_type": "execute_result"
        }
      ],
      "source": [
        "# example\n",
        "np.r_[np.eye(3).ravel(), np.arange(4)]"
      ]
    },
    {
      "cell_type": "code",
      "execution_count": 5,
      "metadata": {
        "ExecuteTime": {
          "end_time": "2021-03-03T14:44:48.987794Z",
          "start_time": "2021-03-03T14:44:48.975827Z"
        },
        "id": "JGmNx9o4i5V0"
      },
      "outputs": [],
      "source": [
        "class Dense:\n",
        "    \"\"\"\n",
        "    Modified code from cs.hse DL course *\n",
        "    \"\"\"\n",
        "    def __init__(self, input_units, output_units):\n",
        "        \"\"\"\n",
        "        A dense layer is a layer which performs a learned affine transformation:\n",
        "        f(x) = x W + b\n",
        "        \"\"\"\n",
        "        # initialize weights with small random numbers from normal distribution\n",
        "        self.weights = np.random.randn(input_units, output_units) * 0.01\n",
        "        self.biases = np.zeros(output_units)\n",
        "        self.params = [self.weights, self.biases]\n",
        "        self.val = None\n",
        "\n",
        "    def forward(self,input):\n",
        "        \"\"\"\n",
        "        Perform an affine transformation:\n",
        "        f(x) = x W + b\n",
        "        \n",
        "        input shape: [batch, input_units]\n",
        "        output shape: [batch, output units]\n",
        "        \"\"\"\n",
        "        ### your code here\n",
        "        self.val = input\n",
        "        return np.dot(input, self.weights) + self.biases\n",
        "\n",
        "\n",
        "    def backward(self, grad_output):\n",
        "        \"\"\"\n",
        "        compute gradients\n",
        "        grad_output shape: [batch, output_units]\n",
        "        output shapes: [batch, input_units], [num_params]\n",
        "        \n",
        "        hint: use function np.r_\n",
        "        np.r_[np.arange(3), np.arange(3)] = [0, 1, 2, 0, 1, 2]\n",
        "        \"\"\"\n",
        "        ### your code here\n",
        "        return np.dot(grad_output, self.weights.T), np.r_[np.ravel(np.dot(self.val.T, grad_output)), np.ravel(np.sum(grad_output, axis=0))]\n",
        "    \n",
        "    def __repr__(self):\n",
        "        return f'Dense({self.weights.shape[0]}, {self.weights.shape[1]})'"
      ]
    },
    {
      "cell_type": "markdown",
      "metadata": {
        "id": "Cive0--ei5V1"
      },
      "source": [
        "### Проверка градиента\n",
        "\n",
        "Проверим правильность реализации с помощью функции численной проверки градиента. Функция `eval_numerical_gradient` принимает на вход callable объект `f` (функцию от одного аргумента-матрицы) и аргумент `x` и вычисляет приближенный градиент функции `f` в точке `x`."
      ]
    },
    {
      "cell_type": "code",
      "execution_count": 6,
      "metadata": {
        "ExecuteTime": {
          "end_time": "2021-03-03T14:44:49.003751Z",
          "start_time": "2021-03-03T14:44:48.990787Z"
        },
        "id": "JSrexcV_i5V1"
      },
      "outputs": [],
      "source": [
        "def eval_numerical_gradient(f, x, verbose=False, h=0.00001):\n",
        "    \"\"\"\n",
        "    Evaluates gradient df/dx via finite differences:\n",
        "    df/dx ~ (f(x+h) - f(x-h)) / 2h\n",
        "    Adopted from https://github.com/ddtm/dl-course/\n",
        "    \"\"\"\n",
        "    fx = f(x) # evaluate function value at original point\n",
        "    grad = np.zeros_like(x)\n",
        "    # iterate over all indexes in x\n",
        "    it = np.nditer(x, flags=['multi_index'], op_flags=['readwrite'])\n",
        "    while not it.finished:\n",
        "\n",
        "        # evaluate function at x+h\n",
        "        ix = it.multi_index\n",
        "        oldval = x[ix]\n",
        "        x[ix] = oldval + h # increment by h\n",
        "        fxph = f(x) # evalute f(x + h)\n",
        "        x[ix] = oldval - h\n",
        "        fxmh = f(x) # evaluate f(x - h)\n",
        "        x[ix] = oldval # restore\n",
        "\n",
        "        # compute the partial derivative with centered formula\n",
        "        grad[ix] = (fxph - fxmh) / (2 * h) # the slope\n",
        "        if verbose:\n",
        "            print (ix, grad[ix])\n",
        "        it.iternext() # step to next dimension\n",
        "\n",
        "    return grad"
      ]
    },
    {
      "cell_type": "markdown",
      "metadata": {
        "id": "KcwJDba4i5V1"
      },
      "source": [
        "Вычислите аналитический и численный градиенты по входу слоя ReLU от функции\n",
        "$$ f(y) = \\sum_i y_i, \\quad y = ReLU(x) $$\n",
        "\n",
        "Выпишите аналитический градиент в этой ячейке:\n",
        "\n",
        "Надо найти $\\nabla_x f  = [ \\frac{\\partial f}{∂x_1}, \\dots, \\frac{\\partial f}{∂x_n} ] $\n",
        "\n",
        "Рассмотрим $\\frac{\\partial f}{∂x_i}:$\n",
        "\n",
        "$$ \\frac{\\partial f}{∂x_i} = \\sum^{n}_{j=1} \\frac{\\partial f}{∂y_j} \\frac{\\partial y_j}{∂x_i}$$\n",
        "\n",
        "Заметим, что $$\\frac{\\partial f}{∂y_j} = 1$$\n",
        "\n",
        "$$ \\frac{\\partial y_j}{∂x_i} = 0, i \\neq j$$\n",
        "\n",
        "$$ \\frac{\\partial y_j}{∂x_i} = [x_i > 0], i = j$$\n",
        "\n",
        "Откуда \n",
        "\n",
        "$$ \\frac{\\partial f}{∂x_i} = \\frac{\\partial f}{∂y_i} \\frac{\\partial y_i}{∂x_i} = [x_i > 0] $$\n",
        "\n",
        "Значит,\n",
        "\n",
        "$$ \\nabla_x f  = [ [x_1 > 0], \\dots, [x_n > 0] ] $$"
      ]
    },
    {
      "cell_type": "markdown",
      "metadata": {
        "id": "A3vSbWcQi5V1"
      },
      "source": [
        "Следующая ячейка после заполнения должна не выдавать ошибку :)"
      ]
    },
    {
      "cell_type": "code",
      "execution_count": 7,
      "metadata": {
        "ExecuteTime": {
          "end_time": "2021-03-03T14:44:49.034673Z",
          "start_time": "2021-03-03T14:44:49.006744Z"
        },
        "id": "hb0NnyIYi5V1"
      },
      "outputs": [],
      "source": [
        "relu = ReLU()\n",
        "points = np.linspace(-1, 1, 10*12).reshape([10, 12])\n",
        "\n",
        "### your code here\n",
        "def f(x):\n",
        "    x =  x * (x > 0)\n",
        "    return np.sum(x)\n",
        "\n",
        "relu.forward(points)\n",
        "grads = relu.backward(np.ones((10, 12)))[0]\n",
        "numeric_grads = eval_numerical_gradient(f, points, verbose=False, h=0.00001)\n",
        "\n",
        "assert np.allclose(grads, numeric_grads, rtol=1e-3, atol=0)"
      ]
    },
    {
      "cell_type": "markdown",
      "metadata": {
        "id": "_8rwuJzgi5V2"
      },
      "source": [
        "Вычислите аналитический и численный градиенты по входу полносвязного слоя от функции\n",
        "$$ f(y) = \\sum_i y_i, \\quad y = W x + b $$\n",
        "\n",
        "Выпишите аналитический градиент в этой ячейке (советуем выписать градиент через дифференциал функции $f$):\n",
        "\n",
        "Пусть $e = ([1, \\dots, 1])^{T}$ - единичный вектор. Тогда $f(y) = e^{T}y.$\n",
        "\n",
        "$$df = e^{T}dy$$\n",
        "$$ dy = Wdx$$\n",
        "$$ df = e^{T}Wdx$$\n",
        "$$ \\nabla_x f = W^T e$$"
      ]
    },
    {
      "cell_type": "markdown",
      "metadata": {
        "id": "dAz6JBNEi5V2"
      },
      "source": [
        "Следующая ячейка после заполнения должна не выдавать ошибку :)"
      ]
    },
    {
      "cell_type": "code",
      "execution_count": 8,
      "metadata": {
        "ExecuteTime": {
          "end_time": "2021-03-03T14:44:49.066624Z",
          "start_time": "2021-03-03T14:44:49.041651Z"
        },
        "id": "fgV5Q0Gii5V2"
      },
      "outputs": [],
      "source": [
        "linear = Dense(12, 32)\n",
        "points = np.linspace(-1, 1, 10*12).reshape([10, 12])\n",
        "\n",
        "### your code here\n",
        "W = linear.weights\n",
        "b = linear.biases\n",
        "def f(x):\n",
        "    y = np.dot(x, W) + b\n",
        "    return np.sum(y)\n",
        "linear.forward(points)\n",
        "grads = linear.backward((np.ones((10, 32))))[0]\n",
        "numeric_grads = eval_numerical_gradient(f, points, verbose=False, h=0.00001)\n",
        "\n",
        "# print(grads.shape, numeric_grads.shape)\n",
        "\n",
        "assert np.allclose(grads, numeric_grads, rtol=1e-3, atol=0)"
      ]
    },
    {
      "cell_type": "markdown",
      "metadata": {
        "id": "UsUNdfCMi5V2"
      },
      "source": [
        "### Реализация softmax-слоя и функции потерь"
      ]
    },
    {
      "cell_type": "markdown",
      "metadata": {
        "id": "WG_J1m6Ki5V2"
      },
      "source": [
        "Для решения задачи многоклассовой классификации обычно используют $softmax$ в качестве нелинейности на последнем слое, чтобы получить вероятности классов для каждого объекта:\n",
        "$$\\hat y = softmax(x)  = \\left \\{\\frac {\\exp(x^i)}{\\sum_{j=1}^K \\exp(x^j)} \\right \\}_{i=1}^K, \\quad K - \\text{число классов.}$$\n",
        "\n",
        "Здесь за $x^i$ мы обозначаем $i$-ый признак объекта $x$.\n",
        "\n",
        "В качестве функции потерь выберем отрицательный логарифм правдоподобия (по английски: negative log likelihood или NLL)\n",
        "$$L(y, \\hat y) = -\\sum_{i=1}^K y^i \\log \\hat y^i,$$\n",
        "где $y^i = 1$, если объект принадлежит $i$-му классу, и $y^i = 0$ иначе.\n",
        "\n",
        "NLL совпадает с выражением для [кросс-энтропии](https://ru.wikipedia.org/wiki/Перекрёстная_энтропия) (в качестве первого распределения берем вырожденное распределение $y$, в качестве второго — предсказанное распределение $\\hat y$). Очевидно, что эту функцию потерь также можно переписать через индексацию, если через $y$ обозначить класс данного объекта:\n",
        "$$L(y, \\hat y) = - \\log \\hat y_{y}$$\n",
        "\n",
        "В таком виде ее удобно реализовывать."
      ]
    },
    {
      "cell_type": "markdown",
      "metadata": {
        "ExecuteTime": {
          "end_time": "2021-03-03T13:13:02.970075Z",
          "start_time": "2021-03-03T13:13:02.961134Z"
        },
        "id": "FN-FPDIIi5V2"
      },
      "source": [
        "Для обучения нейронной сети будем оптимизировать эту функцию потерь по параметрам нейронной сети:\n",
        "\n",
        "$$ \\frac1N \\sum_{i=1}^N L(y_i, \\hat y_i) = \\frac1N \\sum_{i=1}^N L(y_i, \\text{NN}(x_i)) \\rightarrow \\min_{w}\\,,$$\n",
        "где за $x_i$ и $y_i$ мы обозначили признаки и таргет $i$-ого объекта обучающей выборки, за $\\text{NN}$ мы обозначили нейронную сеть, которая по признакам объекта $x_i$ выдает распределение вероятностей $\\hat y_i$, за $w$ мы обозначили все веса нейронной сети, а $N$ — это число объектов в обучающей выборке."
      ]
    },
    {
      "cell_type": "markdown",
      "metadata": {
        "id": "j56OqCMVi5V3"
      },
      "source": [
        "Реализуйте слой `LogSoftmax` (у этого слоя нет параметров). Метод `forward` должен вычислять логарифм от $softmax$, а метод `backward` — пропускать градиенты. В общем случае в промежуточных вычислениях `backward` получится трехмерный тензор, однако для нашей конкретной функции потерь все вычисления можно реализовать в матричном виде.  Поэтому мы будем предполагать, что аргумент `grad_output` — это матрица, у которой в каждой строке только одно ненулевое значение (не обязательно единица)."
      ]
    },
    {
      "cell_type": "code",
      "execution_count": 9,
      "metadata": {
        "ExecuteTime": {
          "end_time": "2021-03-03T14:44:49.272035Z",
          "start_time": "2021-03-03T14:44:49.070612Z"
        },
        "id": "fNawNQRZi5V3"
      },
      "outputs": [],
      "source": [
        "from scipy.special import logsumexp\n",
        "# use this function instead of np.log(np.sum(np.exp(...))) because it is more stable"
      ]
    },
    {
      "cell_type": "code",
      "execution_count": 10,
      "metadata": {
        "ExecuteTime": {
          "end_time": "2021-03-03T14:44:49.288035Z",
          "start_time": "2021-03-03T14:44:49.275031Z"
        },
        "id": "PR30nEQ0i5V3"
      },
      "outputs": [],
      "source": [
        "class LogSoftmax:\n",
        "    def __init__(self):\n",
        "        self.params = []\n",
        "        self.val = None\n",
        "\n",
        "    def forward(self, input):\n",
        "        \"\"\"\n",
        "        Applies softmax to each row and then applies component-wise log\n",
        "        Input shape: [batch, num_units]\n",
        "        Output shape: [batch, num_units]\n",
        "        \"\"\"\n",
        "        ### your code here\n",
        "        self.val = input - logsumexp(input, axis=1)[:, np.newaxis]\n",
        "        return self.val\n",
        "        \n",
        "    def backward(self, grad_output):\n",
        "        \"\"\"\n",
        "        Propagartes gradients.\n",
        "        Assumes that each row of grad_output contains only 1 \n",
        "        non-zero element\n",
        "        Input shape: [batch, num_units]\n",
        "        Output shape: [batch, num_units]\n",
        "        Do not forget to return [] as second value (grad w.r.t. params)\n",
        "        \"\"\"\n",
        "        ### your code here\n",
        "        mask = grad_output != 0\n",
        "        # print(mask)\n",
        "        X = - np.exp(self.val)\n",
        "        X[mask] += 1\n",
        "        return X*(np.sum(grad_output, axis=1)[:, np.newaxis]), []\n",
        "        \n",
        "        \n",
        "\n",
        "    def __repr__(self):\n",
        "        return 'LogSoftmax()'"
      ]
    },
    {
      "cell_type": "markdown",
      "metadata": {
        "id": "sjnfIpK5i5V3"
      },
      "source": [
        "Реализуйте функцию потерь и градиенты функции потерь. Во время вычисления NLL усредняйте (а не суммируйте) значения функции потерь по батчу. Обычно так делают для того, чтобы при двух запусках обучения нейронной сети с разными размерами батча получаемые значения функции потерь у этих сетей были сравнимы."
      ]
    },
    {
      "cell_type": "code",
      "execution_count": 11,
      "metadata": {
        "ExecuteTime": {
          "end_time": "2021-03-03T14:44:49.302990Z",
          "start_time": "2021-03-03T14:44:49.290985Z"
        },
        "id": "8FYWHP5ti5V3"
      },
      "outputs": [],
      "source": [
        "def NLL(activations, target):\n",
        "    \"\"\"\n",
        "    Returns negative log-likelihood of target under model represented by\n",
        "    activations (log probabilities of classes, it's just output of LogSoftmax layer).\n",
        "    `activations` has shape [batch, num_classes], `target` has shape [batch]\n",
        "    Output shape: 1 (scalar).\n",
        "    \"\"\"\n",
        "    ### your code here\n",
        "    L = np.take_along_axis(activations, target[:, np.newaxis], axis=1).reshape(target.shape)\n",
        "    return np.mean(-L)\n",
        "\n",
        "\n",
        "def grad_NLL(activations, target):\n",
        "    \"\"\"\n",
        "    Returns gradient of negative log-likelihood w.r.t. activations.\n",
        "    each arg has shape [batch, num_classes]\n",
        "    output shape: [batch, num-classes]\n",
        "    \"\"\"\n",
        "    ### your code here\n",
        "    mask = np.zeros(activations.shape)\n",
        "    st = np.arange(target.shape[0])\n",
        "    mask[st, target] = 1 / target.shape[0]\n",
        "    return -mask\n"
      ]
    },
    {
      "cell_type": "markdown",
      "metadata": {
        "id": "7Z-SEoQii5V3"
      },
      "source": [
        "Наконец, выполните проверку `LogSoftmax`-слоя, используя функцию потерь и ее градиент:"
      ]
    },
    {
      "cell_type": "code",
      "execution_count": 12,
      "metadata": {
        "ExecuteTime": {
          "end_time": "2021-03-03T14:44:49.350863Z",
          "start_time": "2021-03-03T14:44:49.305945Z"
        },
        "colab": {
          "base_uri": "https://localhost:8080/"
        },
        "id": "DNq9fkazi5V4",
        "outputId": "0168c403-78f8-4074-d2ad-5662cb4ebed9"
      },
      "outputs": [
        {
          "name": "stdout",
          "output_type": "stream",
          "text": [
            "[[-0.09241522  0.00771334  0.00784407]\n",
            " [ 0.00758478 -0.09228666  0.00784407]\n",
            " [ 0.00758478  0.00771334 -0.09215593]]\n",
            "[[-0.09241522  0.00771334  0.00784407]\n",
            " [ 0.00758478 -0.09228666  0.00784407]\n",
            " [ 0.00758478  0.00771334 -0.09215593]]\n"
          ]
        }
      ],
      "source": [
        "lsm = LogSoftmax()\n",
        "target = np.arange(10)\n",
        "points = np.linspace(-1, 1, 10 * 12).reshape([10, 12])\n",
        "\n",
        "def f(x):\n",
        "    return NLL(lsm.forward(x), target)\n",
        "\n",
        "### your code here\n",
        "forward = lsm.forward(points)\n",
        "numeric_grads = eval_numerical_gradient(f, points)\n",
        "grads = lsm.backward(grad_NLL(forward, target))[0]\n",
        "\n",
        "print(grads[:3, :3])\n",
        "print( numeric_grads[:3, :3])\n",
        "assert np.allclose(grads, numeric_grads, rtol=1e-3, atol=0)"
      ]
    },
    {
      "cell_type": "markdown",
      "metadata": {
        "id": "RQGENVZli5V4"
      },
      "source": [
        "## Загрузка данных\n",
        "\n",
        "Мы реализаовали все архитектурные составляющие нашей нейронной сети. Осталось загрузить данные и обучить модель. Мы будем работать с датасетом `digits`, каждый объект в котором — это 8x8 изображение рукописной цифры."
      ]
    },
    {
      "cell_type": "code",
      "execution_count": 13,
      "metadata": {
        "ExecuteTime": {
          "end_time": "2021-03-03T14:44:49.872521Z",
          "start_time": "2021-03-03T14:44:49.354818Z"
        },
        "id": "yvv2hxJti5V4"
      },
      "outputs": [],
      "source": [
        "import matplotlib.pyplot as plt\n",
        "%matplotlib inline"
      ]
    },
    {
      "cell_type": "code",
      "execution_count": 14,
      "metadata": {
        "ExecuteTime": {
          "end_time": "2021-03-03T14:44:51.700670Z",
          "start_time": "2021-03-03T14:44:49.876510Z"
        },
        "id": "RaPyMe6Bi5V4"
      },
      "outputs": [],
      "source": [
        "from sklearn.datasets import load_digits"
      ]
    },
    {
      "cell_type": "code",
      "execution_count": 15,
      "metadata": {
        "ExecuteTime": {
          "end_time": "2021-03-03T14:44:51.873771Z",
          "start_time": "2021-03-03T14:44:51.703667Z"
        },
        "id": "dcIU_PDRi5V4"
      },
      "outputs": [],
      "source": [
        "X, y = load_digits(return_X_y=True)"
      ]
    },
    {
      "cell_type": "code",
      "execution_count": 16,
      "metadata": {
        "ExecuteTime": {
          "end_time": "2021-03-03T14:44:51.889252Z",
          "start_time": "2021-03-03T14:44:51.877326Z"
        },
        "colab": {
          "base_uri": "https://localhost:8080/"
        },
        "id": "lgQ1Jrbdi5V4",
        "outputId": "b1023369-b0e1-4e71-b814-c48c8b38646c"
      },
      "outputs": [
        {
          "data": {
            "text/plain": [
              "((1797, 64), (1797,))"
            ]
          },
          "execution_count": 16,
          "metadata": {},
          "output_type": "execute_result"
        }
      ],
      "source": [
        "X.shape, y.shape"
      ]
    },
    {
      "cell_type": "markdown",
      "metadata": {
        "id": "MPxlKObhi5V4"
      },
      "source": [
        "Разделим данные на обучение и контроль:"
      ]
    },
    {
      "cell_type": "code",
      "execution_count": 17,
      "metadata": {
        "ExecuteTime": {
          "end_time": "2021-03-03T14:44:51.952606Z",
          "start_time": "2021-03-03T14:44:51.892280Z"
        },
        "id": "uJRlkDJai5V5"
      },
      "outputs": [],
      "source": [
        "from sklearn.model_selection import train_test_split"
      ]
    },
    {
      "cell_type": "code",
      "execution_count": 18,
      "metadata": {
        "ExecuteTime": {
          "end_time": "2021-03-03T14:44:51.968609Z",
          "start_time": "2021-03-03T14:44:51.955642Z"
        },
        "id": "PS9loPRqi5V5"
      },
      "outputs": [],
      "source": [
        "X_train, X_test, y_train, y_test = train_test_split(X, y, random_state=0)"
      ]
    },
    {
      "cell_type": "code",
      "execution_count": 19,
      "metadata": {
        "ExecuteTime": {
          "end_time": "2021-03-03T14:44:52.000485Z",
          "start_time": "2021-03-03T14:44:51.971599Z"
        },
        "colab": {
          "base_uri": "https://localhost:8080/"
        },
        "id": "I_-uICPNi5V5",
        "outputId": "48de4c54-3a8e-487e-9130-2b1727204599"
      },
      "outputs": [
        {
          "data": {
            "text/plain": [
              "((1347, 64), (450, 64))"
            ]
          },
          "execution_count": 19,
          "metadata": {},
          "output_type": "execute_result"
        }
      ],
      "source": [
        "X_train.shape, X_test.shape"
      ]
    },
    {
      "cell_type": "markdown",
      "metadata": {
        "id": "9uXcmKxEi5V5"
      },
      "source": [
        "## Сборка и обучение нейронной сети (1 балл)"
      ]
    },
    {
      "cell_type": "markdown",
      "metadata": {
        "id": "z1KJ9b3fi5V5"
      },
      "source": [
        "В нашей реализации мы представляем нейронную сеть в виде списка ее слоев. Например, следующая функция конструирует нейронную сеть заданной ширины (то есть с заданным размером скрытых слоев) и глубины (то есть с заданным количеством слоев) с заданным размером входа и выхода, а также с заданной функцией активации между линейными слоями."
      ]
    },
    {
      "cell_type": "code",
      "execution_count": 20,
      "metadata": {
        "ExecuteTime": {
          "end_time": "2021-03-03T14:44:52.016442Z",
          "start_time": "2021-03-03T14:44:52.003513Z"
        },
        "id": "rHBWh4F0i5V5"
      },
      "outputs": [],
      "source": [
        "def make_network(input_size, hidden_layers_size, output_size, n_layers=3, activation_class=ReLU):\n",
        "    network = []\n",
        "\n",
        "    for layer_idx in range(n_layers):\n",
        "        # Compute sizes of current linear layer\n",
        "        layer_in = input_size if layer_idx == 0 else hidden_layers_size\n",
        "        layer_out = output_size if layer_idx == n_layers - 1 else hidden_layers_size\n",
        "        \n",
        "        # Add linear layer to the network\n",
        "        network.append(Dense(layer_in, layer_out))\n",
        "\n",
        "        # Add activation after each layer except the last one\n",
        "        if layer_idx != n_layers - 1:\n",
        "            network.append(activation_class())\n",
        "\n",
        "    # Add LogSoftmax layer to the network\n",
        "    network.append(LogSoftmax())\n",
        "\n",
        "    return network"
      ]
    },
    {
      "cell_type": "code",
      "execution_count": 21,
      "metadata": {
        "ExecuteTime": {
          "end_time": "2021-03-03T14:44:52.048395Z",
          "start_time": "2021-03-03T14:44:52.020431Z"
        },
        "colab": {
          "base_uri": "https://localhost:8080/"
        },
        "id": "pDO0vxsmi5V5",
        "outputId": "d50bbdae-f817-4e92-ac7d-0a747bb758f1"
      },
      "outputs": [
        {
          "data": {
            "text/plain": [
              "[Dense(64, 32), Relu(), Dense(32, 32), Relu(), Dense(32, 10), LogSoftmax()]"
            ]
          },
          "execution_count": 21,
          "metadata": {},
          "output_type": "execute_result"
        }
      ],
      "source": [
        "input_size = X_train.shape[1]\n",
        "hidden_layers_size = 32\n",
        "output_size = 10\n",
        "\n",
        "network = make_network(input_size, hidden_layers_size, output_size, 3, ReLU)\n",
        "network"
      ]
    },
    {
      "cell_type": "markdown",
      "metadata": {
        "id": "GjCKiS_1i5V5"
      },
      "source": [
        "Реализуйте функцию, которая выполнет прямой проход по нейронной сети:"
      ]
    },
    {
      "cell_type": "code",
      "execution_count": 22,
      "metadata": {
        "ExecuteTime": {
          "end_time": "2021-03-03T14:44:52.063319Z",
          "start_time": "2021-03-03T14:44:52.051386Z"
        },
        "id": "GAtuca5hi5V6"
      },
      "outputs": [],
      "source": [
        "def forward(network, X):\n",
        "    \"\"\"\n",
        "    Perform forward pass through the network.\n",
        "    \n",
        "    network: list of layers\n",
        "    X: raw data\n",
        "    X shape: [batch, features_num]\n",
        "\n",
        "    output: \n",
        "    output shape: [batch, out_features_num]\n",
        "    \"\"\"\n",
        "    ### your code here\n",
        "    res = X\n",
        "    for i in network:\n",
        "        res = i.forward(res)\n",
        "    return res"
      ]
    },
    {
      "cell_type": "markdown",
      "metadata": {
        "id": "GfbP76UTi5V6"
      },
      "source": [
        "Для проверки, хорошо ли сеть обучилась, нам понадобится вычислять долю правильных ответов (accuracy) на данной выборке. Для этого реализуйте функцию, которая делает предсказания на каждом объекте (логично в качестве предсказания на очередном объекте выдавать тот класс, для которого предсказанный логарифм вероятности максимален):"
      ]
    },
    {
      "cell_type": "code",
      "execution_count": 23,
      "metadata": {
        "ExecuteTime": {
          "end_time": "2021-03-03T14:44:52.063319Z",
          "start_time": "2021-03-03T14:44:52.051386Z"
        },
        "id": "JGTWlKCpi5V6"
      },
      "outputs": [],
      "source": [
        "def predict(network, X):\n",
        "    \"\"\"\n",
        "    Returns predictions for each object in X.\n",
        "    \n",
        "    network: list of layers\n",
        "    X: raw data\n",
        "    X shape: [batch, features_num]\n",
        "\n",
        "    output: array of classes, each from 0 to 9\n",
        "    output shape: [batch]\n",
        "    \"\"\"\n",
        "    ### your code here\n",
        "    proba = forward(network, X)\n",
        "    return np.argmax(proba, axis=1)"
      ]
    },
    {
      "cell_type": "markdown",
      "metadata": {
        "id": "QDtehvH-i5V6"
      },
      "source": [
        "Мы будем обучать параметры нейросети с помощью готовой функции оптимизации из модуля `scipy`:"
      ]
    },
    {
      "cell_type": "code",
      "execution_count": 24,
      "metadata": {
        "ExecuteTime": {
          "end_time": "2021-03-03T14:44:52.079311Z",
          "start_time": "2021-03-03T14:44:52.070308Z"
        },
        "id": "szRAQ0Rri5V6"
      },
      "outputs": [],
      "source": [
        "from scipy.optimize import minimize"
      ]
    },
    {
      "cell_type": "code",
      "execution_count": 25,
      "metadata": {
        "ExecuteTime": {
          "end_time": "2021-03-03T14:44:52.111226Z",
          "start_time": "2021-03-03T14:44:52.085292Z"
        },
        "colab": {
          "base_uri": "https://localhost:8080/"
        },
        "id": "bb4jqWe5i5V6",
        "outputId": "89e6523d-4c97-4729-f771-2f8da7f653bc",
        "scrolled": true
      },
      "outputs": [
        {
          "name": "stdout",
          "output_type": "stream",
          "text": [
            "Help on function minimize in module scipy.optimize._minimize:\n",
            "\n",
            "minimize(fun, x0, args=(), method=None, jac=None, hess=None, hessp=None, bounds=None, constraints=(), tol=None, callback=None, options=None)\n",
            "    Minimization of scalar function of one or more variables.\n",
            "    \n",
            "    Parameters\n",
            "    ----------\n",
            "    fun : callable\n",
            "        The objective function to be minimized.\n",
            "    \n",
            "            ``fun(x, *args) -> float``\n",
            "    \n",
            "        where x is an 1-D array with shape (n,) and `args`\n",
            "        is a tuple of the fixed parameters needed to completely\n",
            "        specify the function.\n",
            "    x0 : ndarray, shape (n,)\n",
            "        Initial guess. Array of real elements of size (n,),\n",
            "        where 'n' is the number of independent variables.\n",
            "    args : tuple, optional\n",
            "        Extra arguments passed to the objective function and its\n",
            "        derivatives (`fun`, `jac` and `hess` functions).\n",
            "    method : str or callable, optional\n",
            "        Type of solver.  Should be one of\n",
            "    \n",
            "            - 'Nelder-Mead' :ref:`(see here) <optimize.minimize-neldermead>`\n",
            "            - 'Powell'      :ref:`(see here) <optimize.minimize-powell>`\n",
            "            - 'CG'          :ref:`(see here) <optimize.minimize-cg>`\n",
            "            - 'BFGS'        :ref:`(see here) <optimize.minimize-bfgs>`\n",
            "            - 'Newton-CG'   :ref:`(see here) <optimize.minimize-newtoncg>`\n",
            "            - 'L-BFGS-B'    :ref:`(see here) <optimize.minimize-lbfgsb>`\n",
            "            - 'TNC'         :ref:`(see here) <optimize.minimize-tnc>`\n",
            "            - 'COBYLA'      :ref:`(see here) <optimize.minimize-cobyla>`\n",
            "            - 'SLSQP'       :ref:`(see here) <optimize.minimize-slsqp>`\n",
            "            - 'trust-constr':ref:`(see here) <optimize.minimize-trustconstr>`\n",
            "            - 'dogleg'      :ref:`(see here) <optimize.minimize-dogleg>`\n",
            "            - 'trust-ncg'   :ref:`(see here) <optimize.minimize-trustncg>`\n",
            "            - 'trust-exact' :ref:`(see here) <optimize.minimize-trustexact>`\n",
            "            - 'trust-krylov' :ref:`(see here) <optimize.minimize-trustkrylov>`\n",
            "            - custom - a callable object (added in version 0.14.0),\n",
            "              see below for description.\n",
            "    \n",
            "        If not given, chosen to be one of ``BFGS``, ``L-BFGS-B``, ``SLSQP``,\n",
            "        depending if the problem has constraints or bounds.\n",
            "    jac : {callable,  '2-point', '3-point', 'cs', bool}, optional\n",
            "        Method for computing the gradient vector. Only for CG, BFGS,\n",
            "        Newton-CG, L-BFGS-B, TNC, SLSQP, dogleg, trust-ncg, trust-krylov,\n",
            "        trust-exact and trust-constr. If it is a callable, it should be a\n",
            "        function that returns the gradient vector:\n",
            "    \n",
            "            ``jac(x, *args) -> array_like, shape (n,)``\n",
            "    \n",
            "        where x is an array with shape (n,) and `args` is a tuple with\n",
            "        the fixed parameters. Alternatively, the keywords\n",
            "        {'2-point', '3-point', 'cs'} select a finite\n",
            "        difference scheme for numerical estimation of the gradient. Options\n",
            "        '3-point' and 'cs' are available only to 'trust-constr'.\n",
            "        If `jac` is a Boolean and is True, `fun` is assumed to return the\n",
            "        gradient along with the objective function. If False, the gradient\n",
            "        will be estimated using '2-point' finite difference estimation.\n",
            "    hess : {callable, '2-point', '3-point', 'cs', HessianUpdateStrategy},  optional\n",
            "        Method for computing the Hessian matrix. Only for Newton-CG, dogleg,\n",
            "        trust-ncg,  trust-krylov, trust-exact and trust-constr. If it is\n",
            "        callable, it should return the  Hessian matrix:\n",
            "    \n",
            "            ``hess(x, *args) -> {LinearOperator, spmatrix, array}, (n, n)``\n",
            "    \n",
            "        where x is a (n,) ndarray and `args` is a tuple with the fixed\n",
            "        parameters. LinearOperator and sparse matrix returns are\n",
            "        allowed only for 'trust-constr' method. Alternatively, the keywords\n",
            "        {'2-point', '3-point', 'cs'} select a finite difference scheme\n",
            "        for numerical estimation. Or, objects implementing\n",
            "        `HessianUpdateStrategy` interface can be used to approximate\n",
            "        the Hessian. Available quasi-Newton methods implementing\n",
            "        this interface are:\n",
            "    \n",
            "            - `BFGS`;\n",
            "            - `SR1`.\n",
            "    \n",
            "        Whenever the gradient is estimated via finite-differences,\n",
            "        the Hessian cannot be estimated with options\n",
            "        {'2-point', '3-point', 'cs'} and needs to be\n",
            "        estimated using one of the quasi-Newton strategies.\n",
            "        Finite-difference options {'2-point', '3-point', 'cs'} and\n",
            "        `HessianUpdateStrategy` are available only for 'trust-constr' method.\n",
            "    hessp : callable, optional\n",
            "        Hessian of objective function times an arbitrary vector p. Only for\n",
            "        Newton-CG, trust-ncg, trust-krylov, trust-constr.\n",
            "        Only one of `hessp` or `hess` needs to be given.  If `hess` is\n",
            "        provided, then `hessp` will be ignored.  `hessp` must compute the\n",
            "        Hessian times an arbitrary vector:\n",
            "    \n",
            "            ``hessp(x, p, *args) ->  ndarray shape (n,)``\n",
            "    \n",
            "        where x is a (n,) ndarray, p is an arbitrary vector with\n",
            "        dimension (n,) and `args` is a tuple with the fixed\n",
            "        parameters.\n",
            "    bounds : sequence or `Bounds`, optional\n",
            "        Bounds on variables for L-BFGS-B, TNC, SLSQP and\n",
            "        trust-constr methods. There are two ways to specify the bounds:\n",
            "    \n",
            "            1. Instance of `Bounds` class.\n",
            "            2. Sequence of ``(min, max)`` pairs for each element in `x`. None\n",
            "               is used to specify no bound.\n",
            "    \n",
            "    constraints : {Constraint, dict} or List of {Constraint, dict}, optional\n",
            "        Constraints definition (only for COBYLA, SLSQP and trust-constr).\n",
            "        Constraints for 'trust-constr' are defined as a single object or a\n",
            "        list of objects specifying constraints to the optimization problem.\n",
            "        Available constraints are:\n",
            "    \n",
            "            - `LinearConstraint`\n",
            "            - `NonlinearConstraint`\n",
            "    \n",
            "        Constraints for COBYLA, SLSQP are defined as a list of dictionaries.\n",
            "        Each dictionary with fields:\n",
            "    \n",
            "            type : str\n",
            "                Constraint type: 'eq' for equality, 'ineq' for inequality.\n",
            "            fun : callable\n",
            "                The function defining the constraint.\n",
            "            jac : callable, optional\n",
            "                The Jacobian of `fun` (only for SLSQP).\n",
            "            args : sequence, optional\n",
            "                Extra arguments to be passed to the function and Jacobian.\n",
            "    \n",
            "        Equality constraint means that the constraint function result is to\n",
            "        be zero whereas inequality means that it is to be non-negative.\n",
            "        Note that COBYLA only supports inequality constraints.\n",
            "    tol : float, optional\n",
            "        Tolerance for termination. For detailed control, use solver-specific\n",
            "        options.\n",
            "    options : dict, optional\n",
            "        A dictionary of solver options. All methods accept the following\n",
            "        generic options:\n",
            "    \n",
            "            maxiter : int\n",
            "                Maximum number of iterations to perform. Depending on the\n",
            "                method each iteration may use several function evaluations.\n",
            "            disp : bool\n",
            "                Set to True to print convergence messages.\n",
            "    \n",
            "        For method-specific options, see :func:`show_options()`.\n",
            "    callback : callable, optional\n",
            "        Called after each iteration. For 'trust-constr' it is a callable with\n",
            "        the signature:\n",
            "    \n",
            "            ``callback(xk, OptimizeResult state) -> bool``\n",
            "    \n",
            "        where ``xk`` is the current parameter vector. and ``state``\n",
            "        is an `OptimizeResult` object, with the same fields\n",
            "        as the ones from the return.  If callback returns True\n",
            "        the algorithm execution is terminated.\n",
            "        For all the other methods, the signature is:\n",
            "    \n",
            "            ``callback(xk)``\n",
            "    \n",
            "        where ``xk`` is the current parameter vector.\n",
            "    \n",
            "    Returns\n",
            "    -------\n",
            "    res : OptimizeResult\n",
            "        The optimization result represented as a ``OptimizeResult`` object.\n",
            "        Important attributes are: ``x`` the solution array, ``success`` a\n",
            "        Boolean flag indicating if the optimizer exited successfully and\n",
            "        ``message`` which describes the cause of the termination. See\n",
            "        `OptimizeResult` for a description of other attributes.\n",
            "    \n",
            "    See also\n",
            "    --------\n",
            "    minimize_scalar : Interface to minimization algorithms for scalar\n",
            "        univariate functions\n",
            "    show_options : Additional options accepted by the solvers\n",
            "    \n",
            "    Notes\n",
            "    -----\n",
            "    This section describes the available solvers that can be selected by the\n",
            "    'method' parameter. The default method is *BFGS*.\n",
            "    \n",
            "    **Unconstrained minimization**\n",
            "    \n",
            "    Method :ref:`Nelder-Mead <optimize.minimize-neldermead>` uses the\n",
            "    Simplex algorithm [1]_, [2]_. This algorithm is robust in many\n",
            "    applications. However, if numerical computation of derivative can be\n",
            "    trusted, other algorithms using the first and/or second derivatives\n",
            "    information might be preferred for their better performance in\n",
            "    general.\n",
            "    \n",
            "    Method :ref:`Powell <optimize.minimize-powell>` is a modification\n",
            "    of Powell's method [3]_, [4]_ which is a conjugate direction\n",
            "    method. It performs sequential one-dimensional minimizations along\n",
            "    each vector of the directions set (`direc` field in `options` and\n",
            "    `info`), which is updated at each iteration of the main\n",
            "    minimization loop. The function need not be differentiable, and no\n",
            "    derivatives are taken.\n",
            "    \n",
            "    Method :ref:`CG <optimize.minimize-cg>` uses a nonlinear conjugate\n",
            "    gradient algorithm by Polak and Ribiere, a variant of the\n",
            "    Fletcher-Reeves method described in [5]_ pp.  120-122. Only the\n",
            "    first derivatives are used.\n",
            "    \n",
            "    Method :ref:`BFGS <optimize.minimize-bfgs>` uses the quasi-Newton\n",
            "    method of Broyden, Fletcher, Goldfarb, and Shanno (BFGS) [5]_\n",
            "    pp. 136. It uses the first derivatives only. BFGS has proven good\n",
            "    performance even for non-smooth optimizations. This method also\n",
            "    returns an approximation of the Hessian inverse, stored as\n",
            "    `hess_inv` in the OptimizeResult object.\n",
            "    \n",
            "    Method :ref:`Newton-CG <optimize.minimize-newtoncg>` uses a\n",
            "    Newton-CG algorithm [5]_ pp. 168 (also known as the truncated\n",
            "    Newton method). It uses a CG method to the compute the search\n",
            "    direction. See also *TNC* method for a box-constrained\n",
            "    minimization with a similar algorithm. Suitable for large-scale\n",
            "    problems.\n",
            "    \n",
            "    Method :ref:`dogleg <optimize.minimize-dogleg>` uses the dog-leg\n",
            "    trust-region algorithm [5]_ for unconstrained minimization. This\n",
            "    algorithm requires the gradient and Hessian; furthermore the\n",
            "    Hessian is required to be positive definite.\n",
            "    \n",
            "    Method :ref:`trust-ncg <optimize.minimize-trustncg>` uses the\n",
            "    Newton conjugate gradient trust-region algorithm [5]_ for\n",
            "    unconstrained minimization. This algorithm requires the gradient\n",
            "    and either the Hessian or a function that computes the product of\n",
            "    the Hessian with a given vector. Suitable for large-scale problems.\n",
            "    \n",
            "    Method :ref:`trust-krylov <optimize.minimize-trustkrylov>` uses\n",
            "    the Newton GLTR trust-region algorithm [14]_, [15]_ for unconstrained\n",
            "    minimization. This algorithm requires the gradient\n",
            "    and either the Hessian or a function that computes the product of\n",
            "    the Hessian with a given vector. Suitable for large-scale problems.\n",
            "    On indefinite problems it requires usually less iterations than the\n",
            "    `trust-ncg` method and is recommended for medium and large-scale problems.\n",
            "    \n",
            "    Method :ref:`trust-exact <optimize.minimize-trustexact>`\n",
            "    is a trust-region method for unconstrained minimization in which\n",
            "    quadratic subproblems are solved almost exactly [13]_. This\n",
            "    algorithm requires the gradient and the Hessian (which is\n",
            "    *not* required to be positive definite). It is, in many\n",
            "    situations, the Newton method to converge in fewer iteraction\n",
            "    and the most recommended for small and medium-size problems.\n",
            "    \n",
            "    **Bound-Constrained minimization**\n",
            "    \n",
            "    Method :ref:`L-BFGS-B <optimize.minimize-lbfgsb>` uses the L-BFGS-B\n",
            "    algorithm [6]_, [7]_ for bound constrained minimization.\n",
            "    \n",
            "    Method :ref:`TNC <optimize.minimize-tnc>` uses a truncated Newton\n",
            "    algorithm [5]_, [8]_ to minimize a function with variables subject\n",
            "    to bounds. This algorithm uses gradient information; it is also\n",
            "    called Newton Conjugate-Gradient. It differs from the *Newton-CG*\n",
            "    method described above as it wraps a C implementation and allows\n",
            "    each variable to be given upper and lower bounds.\n",
            "    \n",
            "    **Constrained Minimization**\n",
            "    \n",
            "    Method :ref:`COBYLA <optimize.minimize-cobyla>` uses the\n",
            "    Constrained Optimization BY Linear Approximation (COBYLA) method\n",
            "    [9]_, [10]_, [11]_. The algorithm is based on linear\n",
            "    approximations to the objective function and each constraint. The\n",
            "    method wraps a FORTRAN implementation of the algorithm. The\n",
            "    constraints functions 'fun' may return either a single number\n",
            "    or an array or list of numbers.\n",
            "    \n",
            "    Method :ref:`SLSQP <optimize.minimize-slsqp>` uses Sequential\n",
            "    Least SQuares Programming to minimize a function of several\n",
            "    variables with any combination of bounds, equality and inequality\n",
            "    constraints. The method wraps the SLSQP Optimization subroutine\n",
            "    originally implemented by Dieter Kraft [12]_. Note that the\n",
            "    wrapper handles infinite values in bounds by converting them into\n",
            "    large floating values.\n",
            "    \n",
            "    Method :ref:`trust-constr <optimize.minimize-trustconstr>` is a\n",
            "    trust-region algorithm for constrained optimization. It swiches\n",
            "    between two implementations depending on the problem definition.\n",
            "    It is the most versatile constrained minimization algorithm\n",
            "    implemented in SciPy and the most appropriate for large-scale problems.\n",
            "    For equality constrained problems it is an implementation of Byrd-Omojokun\n",
            "    Trust-Region SQP method described in [17]_ and in [5]_, p. 549. When\n",
            "    inequality constraints  are imposed as well, it swiches to the trust-region\n",
            "    interior point  method described in [16]_. This interior point algorithm,\n",
            "    in turn, solves inequality constraints by introducing slack variables\n",
            "    and solving a sequence of equality-constrained barrier problems\n",
            "    for progressively smaller values of the barrier parameter.\n",
            "    The previously described equality constrained SQP method is\n",
            "    used to solve the subproblems with increasing levels of accuracy\n",
            "    as the iterate gets closer to a solution.\n",
            "    \n",
            "    **Finite-Difference Options**\n",
            "    \n",
            "    For Method :ref:`trust-constr <optimize.minimize-trustconstr>`\n",
            "    the gradient and the Hessian may be approximated using\n",
            "    three finite-difference schemes: {'2-point', '3-point', 'cs'}.\n",
            "    The scheme 'cs' is, potentially, the most accurate but it\n",
            "    requires the function to correctly handles complex inputs and to\n",
            "    be differentiable in the complex plane. The scheme '3-point' is more\n",
            "    accurate than '2-point' but requires twice as much operations.\n",
            "    \n",
            "    **Custom minimizers**\n",
            "    \n",
            "    It may be useful to pass a custom minimization method, for example\n",
            "    when using a frontend to this method such as `scipy.optimize.basinhopping`\n",
            "    or a different library.  You can simply pass a callable as the ``method``\n",
            "    parameter.\n",
            "    \n",
            "    The callable is called as ``method(fun, x0, args, **kwargs, **options)``\n",
            "    where ``kwargs`` corresponds to any other parameters passed to `minimize`\n",
            "    (such as `callback`, `hess`, etc.), except the `options` dict, which has\n",
            "    its contents also passed as `method` parameters pair by pair.  Also, if\n",
            "    `jac` has been passed as a bool type, `jac` and `fun` are mangled so that\n",
            "    `fun` returns just the function values and `jac` is converted to a function\n",
            "    returning the Jacobian.  The method shall return an `OptimizeResult`\n",
            "    object.\n",
            "    \n",
            "    The provided `method` callable must be able to accept (and possibly ignore)\n",
            "    arbitrary parameters; the set of parameters accepted by `minimize` may\n",
            "    expand in future versions and then these parameters will be passed to\n",
            "    the method.  You can find an example in the scipy.optimize tutorial.\n",
            "    \n",
            "    .. versionadded:: 0.11.0\n",
            "    \n",
            "    References\n",
            "    ----------\n",
            "    .. [1] Nelder, J A, and R Mead. 1965. A Simplex Method for Function\n",
            "        Minimization. The Computer Journal 7: 308-13.\n",
            "    .. [2] Wright M H. 1996. Direct search methods: Once scorned, now\n",
            "        respectable, in Numerical Analysis 1995: Proceedings of the 1995\n",
            "        Dundee Biennial Conference in Numerical Analysis (Eds. D F\n",
            "        Griffiths and G A Watson). Addison Wesley Longman, Harlow, UK.\n",
            "        191-208.\n",
            "    .. [3] Powell, M J D. 1964. An efficient method for finding the minimum of\n",
            "       a function of several variables without calculating derivatives. The\n",
            "       Computer Journal 7: 155-162.\n",
            "    .. [4] Press W, S A Teukolsky, W T Vetterling and B P Flannery.\n",
            "       Numerical Recipes (any edition), Cambridge University Press.\n",
            "    .. [5] Nocedal, J, and S J Wright. 2006. Numerical Optimization.\n",
            "       Springer New York.\n",
            "    .. [6] Byrd, R H and P Lu and J. Nocedal. 1995. A Limited Memory\n",
            "       Algorithm for Bound Constrained Optimization. SIAM Journal on\n",
            "       Scientific and Statistical Computing 16 (5): 1190-1208.\n",
            "    .. [7] Zhu, C and R H Byrd and J Nocedal. 1997. L-BFGS-B: Algorithm\n",
            "       778: L-BFGS-B, FORTRAN routines for large scale bound constrained\n",
            "       optimization. ACM Transactions on Mathematical Software 23 (4):\n",
            "       550-560.\n",
            "    .. [8] Nash, S G. Newton-Type Minimization Via the Lanczos Method.\n",
            "       1984. SIAM Journal of Numerical Analysis 21: 770-778.\n",
            "    .. [9] Powell, M J D. A direct search optimization method that models\n",
            "       the objective and constraint functions by linear interpolation.\n",
            "       1994. Advances in Optimization and Numerical Analysis, eds. S. Gomez\n",
            "       and J-P Hennart, Kluwer Academic (Dordrecht), 51-67.\n",
            "    .. [10] Powell M J D. Direct search algorithms for optimization\n",
            "       calculations. 1998. Acta Numerica 7: 287-336.\n",
            "    .. [11] Powell M J D. A view of algorithms for optimization without\n",
            "       derivatives. 2007.Cambridge University Technical Report DAMTP\n",
            "       2007/NA03\n",
            "    .. [12] Kraft, D. A software package for sequential quadratic\n",
            "       programming. 1988. Tech. Rep. DFVLR-FB 88-28, DLR German Aerospace\n",
            "       Center -- Institute for Flight Mechanics, Koln, Germany.\n",
            "    .. [13] Conn, A. R., Gould, N. I., and Toint, P. L.\n",
            "       Trust region methods. 2000. Siam. pp. 169-200.\n",
            "    .. [14] F. Lenders, C. Kirches, A. Potschka: \"trlib: A vector-free\n",
            "       implementation of the GLTR method for iterative solution of\n",
            "       the trust region problem\", https://arxiv.org/abs/1611.04718\n",
            "    .. [15] N. Gould, S. Lucidi, M. Roma, P. Toint: \"Solving the\n",
            "       Trust-Region Subproblem using the Lanczos Method\",\n",
            "       SIAM J. Optim., 9(2), 504--525, (1999).\n",
            "    .. [16] Byrd, Richard H., Mary E. Hribar, and Jorge Nocedal. 1999.\n",
            "        An interior point algorithm for large-scale nonlinear  programming.\n",
            "        SIAM Journal on Optimization 9.4: 877-900.\n",
            "    .. [17] Lalee, Marucha, Jorge Nocedal, and Todd Plantega. 1998. On the\n",
            "        implementation of an algorithm for large-scale equality constrained\n",
            "        optimization. SIAM Journal on Optimization 8.3: 682-706.\n",
            "    \n",
            "    Examples\n",
            "    --------\n",
            "    Let us consider the problem of minimizing the Rosenbrock function. This\n",
            "    function (and its respective derivatives) is implemented in `rosen`\n",
            "    (resp. `rosen_der`, `rosen_hess`) in the `scipy.optimize`.\n",
            "    \n",
            "    >>> from scipy.optimize import minimize, rosen, rosen_der\n",
            "    \n",
            "    A simple application of the *Nelder-Mead* method is:\n",
            "    \n",
            "    >>> x0 = [1.3, 0.7, 0.8, 1.9, 1.2]\n",
            "    >>> res = minimize(rosen, x0, method='Nelder-Mead', tol=1e-6)\n",
            "    >>> res.x\n",
            "    array([ 1.,  1.,  1.,  1.,  1.])\n",
            "    \n",
            "    Now using the *BFGS* algorithm, using the first derivative and a few\n",
            "    options:\n",
            "    \n",
            "    >>> res = minimize(rosen, x0, method='BFGS', jac=rosen_der,\n",
            "    ...                options={'gtol': 1e-6, 'disp': True})\n",
            "    Optimization terminated successfully.\n",
            "             Current function value: 0.000000\n",
            "             Iterations: 26\n",
            "             Function evaluations: 31\n",
            "             Gradient evaluations: 31\n",
            "    >>> res.x\n",
            "    array([ 1.,  1.,  1.,  1.,  1.])\n",
            "    >>> print(res.message)\n",
            "    Optimization terminated successfully.\n",
            "    >>> res.hess_inv\n",
            "    array([[ 0.00749589,  0.01255155,  0.02396251,  0.04750988,  0.09495377],  # may vary\n",
            "           [ 0.01255155,  0.02510441,  0.04794055,  0.09502834,  0.18996269],\n",
            "           [ 0.02396251,  0.04794055,  0.09631614,  0.19092151,  0.38165151],\n",
            "           [ 0.04750988,  0.09502834,  0.19092151,  0.38341252,  0.7664427 ],\n",
            "           [ 0.09495377,  0.18996269,  0.38165151,  0.7664427,   1.53713523]])\n",
            "    \n",
            "    \n",
            "    Next, consider a minimization problem with several constraints (namely\n",
            "    Example 16.4 from [5]_). The objective function is:\n",
            "    \n",
            "    >>> fun = lambda x: (x[0] - 1)**2 + (x[1] - 2.5)**2\n",
            "    \n",
            "    There are three constraints defined as:\n",
            "    \n",
            "    >>> cons = ({'type': 'ineq', 'fun': lambda x:  x[0] - 2 * x[1] + 2},\n",
            "    ...         {'type': 'ineq', 'fun': lambda x: -x[0] - 2 * x[1] + 6},\n",
            "    ...         {'type': 'ineq', 'fun': lambda x: -x[0] + 2 * x[1] + 2})\n",
            "    \n",
            "    And variables must be positive, hence the following bounds:\n",
            "    \n",
            "    >>> bnds = ((0, None), (0, None))\n",
            "    \n",
            "    The optimization problem is solved using the SLSQP method as:\n",
            "    \n",
            "    >>> res = minimize(fun, (2, 0), method='SLSQP', bounds=bnds,\n",
            "    ...                constraints=cons)\n",
            "    \n",
            "    It should converge to the theoretical solution (1.4 ,1.7).\n",
            "\n"
          ]
        }
      ],
      "source": [
        "help(minimize)"
      ]
    },
    {
      "cell_type": "markdown",
      "metadata": {
        "id": "toPEBzMKi5V6"
      },
      "source": [
        "Эта функция имеет стандартный интерфейс: нужно передать callable объект, который вычисляет значение и градиент целевой функции, а также точку старта оптимизации — начальное приближение (одномерный `numpy`-массив). Поэтому нам понадобятся функции для сбора и задания всех весов нашей нейросети (именно для них мы всегда записывали параметры слоя в список `layer.params`)"
      ]
    },
    {
      "cell_type": "code",
      "execution_count": 26,
      "metadata": {
        "ExecuteTime": {
          "end_time": "2021-03-03T14:44:52.127145Z",
          "start_time": "2021-03-03T14:44:52.114180Z"
        },
        "id": "Y8mt6VqXi5V7"
      },
      "outputs": [],
      "source": [
        "def get_weights(network):\n",
        "    weights = []\n",
        "    for layer in network:\n",
        "        for param in layer.params:\n",
        "            weights += param.ravel().tolist()\n",
        "    return np.array(weights)\n",
        "\n",
        "\n",
        "def set_weights(weights, network):\n",
        "    i = 0\n",
        "    for layer in network:\n",
        "        for param in layer.params:\n",
        "            l = param.size\n",
        "            param[:] = weights[i:i+l].reshape(param.shape)\n",
        "            i += l"
      ]
    },
    {
      "cell_type": "markdown",
      "metadata": {
        "id": "OtYNy7EPi5V7"
      },
      "source": [
        "Вам нужно реализовать ту самую функцию, которую мы будем передавать в `minimize`. Эта функция должна брать на вход текущую точку (вектор всех параметров), а также список дополнительных параметров (мы будем передавать через них нашу сеть и обучающие данные) и возвращать значение критерия качества (NLL) и его градиент по параметрам модели."
      ]
    },
    {
      "cell_type": "code",
      "execution_count": 27,
      "metadata": {
        "ExecuteTime": {
          "end_time": "2021-03-03T14:44:52.143103Z",
          "start_time": "2021-03-03T14:44:52.131134Z"
        },
        "id": "_zSGIHgNi5V7"
      },
      "outputs": [],
      "source": [
        "def compute_loss_grad(weights, args):\n",
        "    \"\"\"\n",
        "    takes current weights and computes cross-entropy and gradients\n",
        "    weights shape: [num_parameters]\n",
        "    output 1: loss (scalar)\n",
        "    output 2: gradint w.r.t. weights, shape: [num_parameters]\n",
        "    \n",
        "    hint: firstly perform forward pass through the whole network\n",
        "    then compute loss and its gradients\n",
        "    then perform backward pass, transmitting first baskward output\n",
        "    to the previos layer and saving second baskward output in a list\n",
        "    finally flatten all the gradients in this list\n",
        "    (in the order from the first to the last layer)\n",
        "    \n",
        "    Do not forget to set weights of the network!\n",
        "    \"\"\"\n",
        "    network, X, y = args\n",
        "    ### your code here\n",
        "    set_weights(weights, network)\n",
        "    proba = forward(network, X)\n",
        "    llh = NLL(proba, y)\n",
        "    grad_var = grad_NLL(proba, y)\n",
        "    grad_param_list = []\n",
        "\n",
        "    for i in network[::-1]:\n",
        "        grad_var, grad_param = i.backward(grad_var)\n",
        "        if len(grad_param) != 0:\n",
        "            grad_param_list = list(grad_param) + grad_param_list\n",
        "    return llh, np.array(grad_param_list)"
      ]
    },
    {
      "cell_type": "markdown",
      "metadata": {
        "id": "GgNQZJf4i5V7"
      },
      "source": [
        "Теперь мы готовы обучать нашу нейросеть. "
      ]
    },
    {
      "cell_type": "code",
      "execution_count": 28,
      "metadata": {
        "ExecuteTime": {
          "end_time": "2021-03-03T14:44:52.175017Z",
          "start_time": "2021-03-03T14:44:52.148090Z"
        },
        "id": "TU3J6ZfNi5V7"
      },
      "outputs": [],
      "source": [
        "weights = get_weights(network)"
      ]
    },
    {
      "cell_type": "code",
      "execution_count": 29,
      "metadata": {
        "ExecuteTime": {
          "end_time": "2021-03-03T14:44:53.078366Z",
          "start_time": "2021-03-03T14:44:52.179006Z"
        },
        "id": "SH9WSrnti5V7"
      },
      "outputs": [],
      "source": [
        "res = minimize(\n",
        "    compute_loss_grad, weights,       # fun and start point\n",
        "    args=[network, X_train, y_train], # args passed to fun\n",
        "    method=\"L-BFGS-B\",                # optimization method\n",
        "    jac=True                          # says that gradient is computed in fun\n",
        ")"
      ]
    },
    {
      "cell_type": "code",
      "execution_count": 30,
      "metadata": {
        "ExecuteTime": {
          "end_time": "2021-03-03T14:44:53.093332Z",
          "start_time": "2021-03-03T14:44:53.081402Z"
        },
        "colab": {
          "base_uri": "https://localhost:8080/"
        },
        "id": "8gFf81_3i5V7",
        "outputId": "e8d28368-9236-4514-b39d-cc4917bf5256"
      },
      "outputs": [
        {
          "data": {
            "text/plain": [
              "dict_keys(['fun', 'jac', 'nfev', 'nit', 'status', 'message', 'x', 'success', 'hess_inv'])"
            ]
          },
          "execution_count": 30,
          "metadata": {},
          "output_type": "execute_result"
        }
      ],
      "source": [
        "res.keys()"
      ]
    },
    {
      "cell_type": "code",
      "execution_count": 31,
      "metadata": {
        "ExecuteTime": {
          "end_time": "2021-03-03T14:44:53.109290Z",
          "start_time": "2021-03-03T14:44:53.096325Z"
        },
        "colab": {
          "base_uri": "https://localhost:8080/"
        },
        "id": "9w48fngPi5V8",
        "outputId": "efe52e5d-6d56-43e6-f9fd-b0cbb6ea06e4",
        "scrolled": true
      },
      "outputs": [
        {
          "data": {
            "text/plain": [
              "154"
            ]
          },
          "execution_count": 31,
          "metadata": {},
          "output_type": "execute_result"
        }
      ],
      "source": [
        "res[\"nit\"] # number of iterations (should be >> 10)"
      ]
    },
    {
      "cell_type": "code",
      "execution_count": 32,
      "metadata": {
        "ExecuteTime": {
          "end_time": "2021-03-03T14:44:53.125246Z",
          "start_time": "2021-03-03T14:44:53.112286Z"
        },
        "colab": {
          "base_uri": "https://localhost:8080/"
        },
        "id": "StYH7CpGi5V8",
        "outputId": "0bf27492-ca02-461e-ff4f-ed11fe6d9a74"
      },
      "outputs": [
        {
          "data": {
            "text/plain": [
              "True"
            ]
          },
          "execution_count": 32,
          "metadata": {},
          "output_type": "execute_result"
        }
      ],
      "source": [
        "res[\"success\"] # should be True"
      ]
    },
    {
      "cell_type": "code",
      "execution_count": 33,
      "metadata": {
        "ExecuteTime": {
          "end_time": "2021-03-03T14:44:53.140244Z",
          "start_time": "2021-03-03T14:44:53.128239Z"
        },
        "colab": {
          "base_uri": "https://localhost:8080/"
        },
        "id": "ZYn-NB0ni5V8",
        "outputId": "f17bc730-0b98-474c-e33d-62130a8f1682"
      },
      "outputs": [
        {
          "data": {
            "text/plain": [
              "array([ 2.62886485e-04, -7.48476446e-03, -9.08103160e-03, ...,\n",
              "       -1.40887074e+00, -3.18427144e+00, -6.38722456e-01])"
            ]
          },
          "execution_count": 33,
          "metadata": {},
          "output_type": "execute_result"
        }
      ],
      "source": [
        "res[\"x\"] # leraned weights"
      ]
    },
    {
      "cell_type": "markdown",
      "metadata": {
        "id": "lfp4lg43i5V8"
      },
      "source": [
        "Выведите качество на обучении (`X_train`, `y_train`) и на контроле (`X_test`, `y_test`). Не забудьте установить веса!"
      ]
    },
    {
      "cell_type": "code",
      "execution_count": 34,
      "metadata": {
        "ExecuteTime": {
          "end_time": "2021-03-03T14:44:53.172124Z",
          "start_time": "2021-03-03T14:44:53.144212Z"
        },
        "id": "dQRSXI4mi5V8"
      },
      "outputs": [],
      "source": [
        "### your code here"
      ]
    },
    {
      "cell_type": "code",
      "execution_count": 35,
      "metadata": {
        "colab": {
          "base_uri": "https://localhost:8080/"
        },
        "id": "hap32SlZji5_",
        "outputId": "00c94389-2e0d-4ac1-8cff-ef3b1758bee9"
      },
      "outputs": [
        {
          "name": "stdout",
          "output_type": "stream",
          "text": [
            "NLL (Train / Test) : 0.0  /  0.947\n",
            "Accuracy (Train / Test) : 1.0  /  0.958\n"
          ]
        }
      ],
      "source": [
        "set_weights(res[\"x\"], network)\n",
        "y_pred = predict(network, X_train)\n",
        "acc_train = np.mean(y_pred == y_train)\n",
        "nll_train = NLL(forward(network, X_train), y_train)\n",
        "y_pred = predict(network, X_test)\n",
        "acc_test = np.mean(y_pred == y_test)\n",
        "nll_test = NLL(forward(network, X_test), y_test)\n",
        "\n",
        "print('NLL (Train / Test) :', round(nll_train, 3),' / ', round(nll_test, 3))\n",
        "print('Accuracy (Train / Test) :', round(acc_train, 3), ' / ', round(acc_test, 3))"
      ]
    },
    {
      "cell_type": "markdown",
      "metadata": {
        "id": "9eDevEP2i5V9"
      },
      "source": [
        "У `minimize` есть также аргумент `callback` — в нее можно передать функцию, которая будет вызываться после каждой итерации оптимизации. Такую функцию удобно оформить в виде метода класса, который будет сохранять качество на обучении контроле после каждой итерации. Реализуйте этот метод в классе `Callback`:"
      ]
    },
    {
      "cell_type": "code",
      "execution_count": 36,
      "metadata": {
        "ExecuteTime": {
          "end_time": "2021-03-03T14:44:53.188082Z",
          "start_time": "2021-03-03T14:44:53.175117Z"
        },
        "id": "jK9a8QUFi5V9"
      },
      "outputs": [],
      "source": [
        "class Callback:\n",
        "    def __init__(self, network, X_train, y_train, X_test, y_test, print=False):\n",
        "        self.network = network\n",
        "        self.X_train = X_train\n",
        "        self.X_test = X_test\n",
        "        self.y_train = y_train\n",
        "        self.y_test = y_test\n",
        "        self.print = print\n",
        "        self.train_acc = []\n",
        "        self.test_acc = []\n",
        "        \n",
        "    def call(self, weights):\n",
        "        \"\"\"\n",
        "        Computes quality on train and test set with given weights\n",
        "        and saves to self.train_acc and self.test_acc.\n",
        "        If self.print is True, also prints these 2 values\n",
        "        \"\"\"\n",
        "        ### your code here'\n",
        "        set_weights(weights, self.network)\n",
        "        y_train_pred = predict(self.network, self.X_train)\n",
        "        y_test_pred = predict(self.network, X_test)\n",
        "        acc_train = np.mean(y_train_pred == self.y_train)\n",
        "        acc_test = np.mean(y_test_pred == self.y_test)\n",
        "        self.train_acc.append(acc_train)\n",
        "        self.test_acc.append(acc_test)\n",
        "        if self.print:\n",
        "            print(acc_train, acc_test)\n",
        "\n",
        "\n",
        "        "
      ]
    },
    {
      "cell_type": "code",
      "execution_count": 37,
      "metadata": {
        "ExecuteTime": {
          "end_time": "2021-03-03T14:44:54.497924Z",
          "start_time": "2021-03-03T14:44:53.191074Z"
        },
        "colab": {
          "base_uri": "https://localhost:8080/"
        },
        "id": "uojaIz6Qi5V9",
        "outputId": "f2ff75de-b933-44dc-82f4-ee541a42a710"
      },
      "outputs": [
        {
          "name": "stdout",
          "output_type": "stream",
          "text": [
            "0.19079435783221974 0.1622222222222222\n",
            "0.29175946547884185 0.2511111111111111\n",
            "0.2902746844840386 0.25333333333333335\n",
            "0.32219747587230885 0.3022222222222222\n",
            "0.4328136599851522 0.4266666666666667\n",
            "0.4239049740163326 0.4066666666666667\n",
            "0.5508537490720119 0.5222222222222223\n",
            "0.6132145508537491 0.5777777777777777\n",
            "0.6629547141796585 0.6266666666666667\n",
            "0.6956198960653304 0.6688888888888889\n",
            "0.6919079435783222 0.6577777777777778\n",
            "0.7498144023756496 0.7177777777777777\n",
            "0.7698589458054937 0.7466666666666667\n",
            "0.7861915367483296 0.7688888888888888\n",
            "0.7802524127691166 0.76\n",
            "0.807720861172977 0.7844444444444445\n",
            "0.8129175946547884 0.7933333333333333\n",
            "0.8114328136599851 0.7955555555555556\n",
            "0.8225686711210096 0.8066666666666666\n",
            "0.8210838901262064 0.8066666666666666\n",
            "0.8530066815144766 0.84\n",
            "0.8619153674832962 0.8488888888888889\n",
            "0.8693392724573126 0.8444444444444444\n",
            "0.8737936154417223 0.8644444444444445\n",
            "0.874536005939124 0.8533333333333334\n",
            "0.8804751299183371 0.8555555555555555\n",
            "0.8841870824053452 0.8644444444444445\n",
            "0.8916109873793615 0.8688888888888889\n",
            "0.8923533778767632 0.8755555555555555\n",
            "0.8982925018559762 0.8822222222222222\n",
            "0.8975501113585747 0.8822222222222222\n",
            "0.8975501113585747 0.8777777777777778\n",
            "0.8997772828507795 0.8755555555555555\n",
            "0.9049740163325909 0.8688888888888889\n",
            "0.9072011878247959 0.8888888888888888\n",
            "0.9079435783221975 0.8844444444444445\n",
            "0.9153674832962138 0.8888888888888888\n",
            "0.9153674832962138 0.8933333333333333\n",
            "0.9198218262806236 0.9088888888888889\n",
            "0.9242761692650334 0.9155555555555556\n",
            "0.933184855233853 0.9222222222222223\n",
            "0.9317000742390498 0.92\n",
            "0.9346696362286563 0.9222222222222223\n",
            "0.9383815887156645 0.9133333333333333\n",
            "0.9428359317000743 0.9244444444444444\n",
            "0.9420935412026726 0.9333333333333333\n",
            "0.9450631031922792 0.9266666666666666\n",
            "0.9450631031922792 0.9244444444444444\n",
            "0.9443207126948775 0.9266666666666666\n",
            "0.9458054936896808 0.9311111111111111\n",
            "0.9487750556792873 0.9355555555555556\n",
            "0.949517446176689 0.9311111111111111\n",
            "0.9561989606533037 0.9222222222222223\n",
            "0.9569413511507052 0.9266666666666666\n",
            "0.9561989606533037 0.9222222222222223\n",
            "0.9606533036377134 0.9266666666666666\n",
            "0.96362286562732 0.9288888888888889\n",
            "0.9651076466221232 0.9311111111111111\n",
            "0.9658500371195249 0.9311111111111111\n",
            "0.9665924276169265 0.9377777777777778\n",
            "0.9651076466221232 0.9422222222222222\n",
            "0.9673348181143281 0.94\n",
            "0.9717891610987379 0.9355555555555556\n",
            "0.9732739420935412 0.9355555555555556\n",
            "0.9755011135857461 0.9266666666666666\n",
            "0.9762435040831478 0.9266666666666666\n",
            "0.9769858945805494 0.9311111111111111\n",
            "0.9769858945805494 0.9311111111111111\n",
            "0.977728285077951 0.9333333333333333\n",
            "0.9769858945805494 0.9266666666666666\n",
            "0.9799554565701559 0.9311111111111111\n",
            "0.9814402375649591 0.9377777777777778\n",
            "0.9814402375649591 0.94\n",
            "0.9844097995545658 0.9355555555555556\n",
            "0.985894580549369 0.9377777777777778\n",
            "0.9866369710467706 0.9422222222222222\n",
            "0.9866369710467706 0.9466666666666667\n",
            "0.9873793615441723 0.9466666666666667\n",
            "0.9866369710467706 0.9488888888888889\n",
            "0.9881217520415738 0.9511111111111111\n",
            "0.9873793615441723 0.9466666666666667\n",
            "0.9881217520415738 0.9466666666666667\n",
            "0.9888641425389755 0.9466666666666667\n",
            "0.9896065330363771 0.9444444444444444\n",
            "0.9903489235337788 0.9466666666666667\n",
            "0.9925760950259837 0.9488888888888889\n",
            "0.991833704528582 0.9511111111111111\n",
            "0.9925760950259837 0.9488888888888889\n",
            "0.9933184855233853 0.9511111111111111\n",
            "0.994060876020787 0.9533333333333334\n",
            "0.9955456570155902 0.9466666666666667\n",
            "0.9970304380103935 0.9466666666666667\n",
            "0.9970304380103935 0.9488888888888889\n",
            "0.9955456570155902 0.9511111111111111\n",
            "0.9955456570155902 0.9511111111111111\n",
            "0.9970304380103935 0.9533333333333334\n",
            "0.9977728285077951 0.9555555555555556\n",
            "0.9985152190051967 0.9466666666666667\n",
            "0.9992576095025983 0.9511111111111111\n",
            "1.0 0.9555555555555556\n",
            "1.0 0.9555555555555556\n",
            "1.0 0.9511111111111111\n",
            "1.0 0.9511111111111111\n",
            "1.0 0.9533333333333334\n",
            "1.0 0.9577777777777777\n",
            "1.0 0.9555555555555556\n",
            "1.0 0.9555555555555556\n",
            "1.0 0.9555555555555556\n",
            "1.0 0.9511111111111111\n",
            "1.0 0.9511111111111111\n",
            "1.0 0.9511111111111111\n",
            "1.0 0.9533333333333334\n",
            "1.0 0.9533333333333334\n",
            "1.0 0.9533333333333334\n",
            "1.0 0.9466666666666667\n",
            "1.0 0.9466666666666667\n",
            "1.0 0.9488888888888889\n",
            "1.0 0.9488888888888889\n",
            "1.0 0.9511111111111111\n",
            "1.0 0.9511111111111111\n",
            "1.0 0.9511111111111111\n",
            "1.0 0.9511111111111111\n",
            "1.0 0.9511111111111111\n",
            "1.0 0.9511111111111111\n",
            "1.0 0.9533333333333334\n",
            "1.0 0.9533333333333334\n",
            "1.0 0.9511111111111111\n",
            "1.0 0.9511111111111111\n",
            "1.0 0.9511111111111111\n",
            "1.0 0.9533333333333334\n",
            "1.0 0.9555555555555556\n",
            "1.0 0.9555555555555556\n",
            "1.0 0.9577777777777777\n",
            "1.0 0.9577777777777777\n",
            "1.0 0.9577777777777777\n",
            "1.0 0.96\n",
            "1.0 0.96\n",
            "1.0 0.9577777777777777\n",
            "1.0 0.9577777777777777\n",
            "1.0 0.9577777777777777\n",
            "1.0 0.96\n",
            "1.0 0.96\n",
            "1.0 0.96\n",
            "1.0 0.96\n",
            "1.0 0.9577777777777777\n",
            "1.0 0.9555555555555556\n",
            "1.0 0.96\n",
            "1.0 0.96\n",
            "1.0 0.96\n",
            "1.0 0.96\n",
            "1.0 0.96\n",
            "1.0 0.96\n",
            "1.0 0.96\n",
            "1.0 0.9577777777777777\n"
          ]
        }
      ],
      "source": [
        "cb = Callback(network, X_train, y_train, X_test, y_test, print=True)\n",
        "\n",
        "res = minimize(\n",
        "    compute_loss_grad, weights,  \n",
        "    args=[network, X_train, y_train], \n",
        "    method=\"L-BFGS-B\",\n",
        "    jac=True,\n",
        "    callback=cb.call\n",
        ")"
      ]
    },
    {
      "cell_type": "markdown",
      "metadata": {
        "id": "xWq8rnvPi5V9"
      },
      "source": [
        "Изобразите на графике кривую качества на обучени и контроле по итерациям:"
      ]
    },
    {
      "cell_type": "code",
      "execution_count": 38,
      "metadata": {
        "ExecuteTime": {
          "end_time": "2021-03-03T14:44:54.816117Z",
          "start_time": "2021-03-03T14:44:54.500922Z"
        },
        "colab": {
          "base_uri": "https://localhost:8080/",
          "height": 0
        },
        "id": "59sB8xhYi5V9",
        "outputId": "b3da44f3-958d-45b3-c618-2e390f24144e"
      },
      "outputs": [
        {
          "data": {
            "image/png": "[encoded data removed]",
            "text/plain": [
              "<Figure size 720x360 with 1 Axes>"
            ]
          },
          "metadata": {
            "needs_background": "light"
          },
          "output_type": "display_data"
        }
      ],
      "source": [
        "fig, ax = plt.subplots(1, 1, figsize=(10, 5))\n",
        "ax.plot(cb.train_acc, label=\"train acc\")\n",
        "ax.plot(cb.test_acc, label=\"test acc\")\n",
        "ax.set_xlabel(\"Iteration\")\n",
        "ax.set_ylabel(\"Accuracy\")\n",
        "ax.grid(True)\n",
        "ax.legend()\n",
        "\n",
        "fig.tight_layout()\n",
        "plt.show()"
      ]
    },
    {
      "cell_type": "markdown",
      "metadata": {
        "id": "IkhWa2zji5V9"
      },
      "source": [
        "## Эксперименты с числом слоев (1 балл)"
      ]
    },
    {
      "cell_type": "markdown",
      "metadata": {
        "id": "_VtPnLRli5V-"
      },
      "source": [
        "Ясно, что из-за случайного начального приближения с каждым запуском обучения мы будем получать различное качество. Попробуем обучить нашу нейросеть с разным числом слоев несколько раз.\n",
        "\n",
        "Заполните матрицы `accs_train` и `accs_test`. В позиции `[i, j]` должна стоять величина доли правильных ответов сети с $i+1$ полносвязными слоями при $j$-м запуске (все запуски идентичны)."
      ]
    },
    {
      "cell_type": "code",
      "execution_count": 48,
      "metadata": {
        "ExecuteTime": {
          "end_time": "2021-03-03T14:44:54.832074Z",
          "start_time": "2021-03-03T14:44:54.819071Z"
        },
        "id": "uVGyZoy_i5V-"
      },
      "outputs": [],
      "source": [
        "accs_train = np.zeros((5, 5))\n",
        "accs_test = np.zeros((5, 5))"
      ]
    },
    {
      "cell_type": "code",
      "execution_count": 49,
      "metadata": {
        "colab": {
          "base_uri": "https://localhost:8080/"
        },
        "id": "wKyCie5NyUJx",
        "outputId": "8353bc05-2f40-4f68-a761-74c8bc94dc11"
      },
      "outputs": [
        {
          "name": "stdout",
          "output_type": "stream",
          "text": [
            "Help on function make_network in module __main__:\n",
            "\n",
            "make_network(input_size, hidden_layers_size, output_size, n_layers=3, activation_class=<class '__main__.ReLU'>)\n",
            "\n"
          ]
        }
      ],
      "source": [
        "help(make_network)"
      ]
    },
    {
      "cell_type": "code",
      "execution_count": 50,
      "metadata": {
        "ExecuteTime": {
          "end_time": "2021-03-03T14:45:56.444624Z",
          "start_time": "2021-03-03T14:44:54.836024Z"
        },
        "id": "x_IADXggi5V-"
      },
      "outputs": [],
      "source": [
        "### your code here\n",
        "\n",
        "for i in range(5):\n",
        "    for j in range(5):\n",
        "        network = make_network(input_size, hidden_layers_size, output_size, n_layers=i+1)\n",
        "        weights = get_weights(network)\n",
        "        # cb = Callback(network, X_train, y_train, X_test, y_test, print=False)\n",
        "        res = minimize(\n",
        "            compute_loss_grad, weights,  \n",
        "            args=[network, X_train, y_train], \n",
        "            method=\"L-BFGS-B\",\n",
        "            jac=True\n",
        "            # callback=cb.call\n",
        "        )\n",
        "        set_weights(res['x'], network)\n",
        "        y_train_pred = predict(network, X_train)\n",
        "        y_test_pred = predict(network, X_test)\n",
        "        accs_train[i, j] = np.mean(y_train_pred == y_train)\n",
        "        accs_test[i, j] = np.mean(y_test_pred == y_test)\n"
      ]
    },
    {
      "cell_type": "markdown",
      "metadata": {
        "id": "yScM-_XXi5V-"
      },
      "source": [
        "Построим боксплоты полученного качества (горизонтальная линия в каждом столбце — среднее, прямоугольник показывает разброс)."
      ]
    },
    {
      "cell_type": "code",
      "execution_count": 51,
      "metadata": {
        "ExecuteTime": {
          "end_time": "2021-03-03T14:45:57.060827Z",
          "start_time": "2021-03-03T14:45:56.447467Z"
        },
        "colab": {
          "base_uri": "https://localhost:8080/",
          "height": 0
        },
        "id": "iGU-qnHpi5V-",
        "outputId": "5370555d-dcfb-42b6-abee-d13f83e0107e"
      },
      "outputs": [
        {
          "data": {
            "image/png": "[encoded data removed]",
            "text/plain": [
              "<Figure size 720x576 with 2 Axes>"
            ]
          },
          "metadata": {
            "needs_background": "light"
          },
          "output_type": "display_data"
        }
      ],
      "source": [
        "#my\n",
        "fig, axes = plt.subplots(2, 1, figsize=(10, 8))\n",
        "\n",
        "axes[0].boxplot(accs_train.T, showfliers=False)\n",
        "axes[1].boxplot(accs_test.T, showfliers=False)\n",
        "\n",
        "axes[0].set_xlabel(\"Number of layers\")\n",
        "axes[1].set_xlabel(\"Number of layers\")\n",
        "\n",
        "axes[0].set_ylabel(\"Train accuracy\")\n",
        "axes[1].set_ylabel(\"Test accuracy\")\n",
        "\n",
        "axes[0].set_title(\"Train quality in 5 runs\")\n",
        "axes[1].set_title(\"Test quality in 5 runs\")\n",
        "\n",
        "axes[0].grid(True)\n",
        "axes[1].grid(True)\n",
        "\n",
        "fig.tight_layout()\n",
        "plt.show()"
      ]
    },
    {
      "cell_type": "code",
      "execution_count": null,
      "metadata": {
        "ExecuteTime": {
          "end_time": "2021-03-03T14:45:57.060827Z",
          "start_time": "2021-03-03T14:45:56.447467Z"
        },
        "id": "OsjAqzFgy3RR",
        "outputId": "aa995817-8b01-4c33-b57d-ad20dd58b8e0"
      },
      "outputs": [
        {
          "data": {
            "image/png": "[encoded data removed]",
            "text/plain": [
              "<Figure size 720x576 with 2 Axes>"
            ]
          },
          "metadata": {
            "needs_background": "light"
          },
          "output_type": "display_data"
        }
      ],
      "source": [
        "fig, axes = plt.subplots(2, 1, figsize=(10, 8))\n",
        "\n",
        "axes[0].boxplot(accs_train.T, showfliers=False)\n",
        "axes[1].boxplot(accs_test.T, showfliers=False)\n",
        "\n",
        "axes[0].set_xlabel(\"Number of layers\")\n",
        "axes[1].set_xlabel(\"Number of layers\")\n",
        "\n",
        "axes[0].set_ylabel(\"Train accuracy\")\n",
        "axes[1].set_ylabel(\"Test accuracy\")\n",
        "\n",
        "axes[0].set_title(\"Train quality in 5 runs\")\n",
        "axes[1].set_title(\"Test quality in 5 runs\")\n",
        "\n",
        "axes[0].grid(True)\n",
        "axes[1].grid(True)\n",
        "\n",
        "fig.tight_layout()\n",
        "plt.show()"
      ]
    },
    {
      "cell_type": "markdown",
      "metadata": {
        "id": "yymQXYq1i5V-"
      },
      "source": [
        "Дайте развёрнутый ответ на вопросы (в этой же ячейке):\n",
        "* Как изменяются качество на обучении и контроле и устойчивость процесса обучения при увеличении числа слоев?\n",
        "* Можно ли сказать, что логистическая регрессия (линейная модель) дает качество хуже, чем нелинейная модель?\n",
        "\n",
        "__Ответы:__\n",
        "\n",
        "При увеличении числа слоёв качество на обучении не изменяется, там всегда качество равно 1. Но с увеличением числа слоёв качество на тесте ухудшается, что связано с переобучением. \n",
        "\n",
        "Модель более устойчива с небольшим количеством слоёв(1-3). дальше модель переобучается и становится менее устойчивой.\n",
        "\n",
        "В данном случае нельзя сказать, что линейная модель дает качество хуже, чем нелинейная. Модель с одним слоем дала качество приблизительно такой же как и модели с (2-4) слоями. А разброс в данном случае примерно такой же как и у модели с 2 слоями."
      ]
    },
    {
      "cell_type": "markdown",
      "metadata": {
        "id": "6RZKkwfni5V_"
      },
      "source": [
        "## Эксперименты c различными инициализациями весов (1 балл)"
      ]
    },
    {
      "cell_type": "markdown",
      "metadata": {
        "id": "kljQXWzWi5V_"
      },
      "source": [
        "Как уже было сказано, начальная инициализация весов нейронной сети может сильно влиять на процесс ее обучения и, как следствие, на ее качество.\n",
        "\n",
        "В этом пункте вам предлагается попробовать обучить несколько нейронных сетей с различными инициализациями слоев.\n",
        "\n",
        "Для этого необходимо реализовать функцию, инициализирующую веса линейных слоёв нашей нейронной сети. Добавьте в функционал данного метода возможность инициализировать его веса с помощью инициализации Kaiming (используется, если в нейронной сети в качестве функций активации используется ReLU) и инициализации Xavier (используется, если в нейронной сети в качестве функций активации используется Tanh или Sigmoid):"
      ]
    },
    {
      "cell_type": "code",
      "execution_count": 52,
      "metadata": {
        "ExecuteTime": {
          "end_time": "2021-03-03T14:45:57.075786Z",
          "start_time": "2021-03-03T14:45:57.063819Z"
        },
        "code_folding": [],
        "id": "5_UWhhW5i5V_"
      },
      "outputs": [],
      "source": [
        "def initialize_network(network, initialization):\n",
        "    for layer in network:\n",
        "        if isinstance(layer, Dense):\n",
        "            input_units, output_units = layer.weights.shape\n",
        "            if initialization == 'Kaiming':\n",
        "                ### your code here\n",
        "                std = np.sqrt(1 / input_units)\n",
        "                layer.weights = np.random.randn(input_units, output_units) * std\n",
        "                # bound = np.sqrt(3 / input_units)\n",
        "                # layer.weights = np.random.uniform(-bound, bound, size=(input_units, output_units))\n",
        "                pass\n",
        "            elif initialization == 'Xavier':\n",
        "                ### your code here\n",
        "                bound = np.sqrt(6 / (input_units + output_units))\n",
        "                layer.weights = np.random.uniform(-bound, bound, size=(input_units, output_units))\n",
        "                pass\n",
        "            else:\n",
        "                # Initialize weights with small random numbers from normal distribution.\n",
        "                # In this case `initialization` represents a standard deviation\n",
        "                # for normal distribution.\n",
        "                layer.weights = np.random.randn(input_units, output_units) * initialization\n",
        "            layer.biases = np.zeros_like(layer.biases)\n",
        "            \n",
        "            layer.params = [layer.weights, layer.biases]"
      ]
    },
    {
      "cell_type": "markdown",
      "metadata": {
        "id": "EBSfzJMLi5V_"
      },
      "source": [
        "Теперь попробуйте для каждой из 3 инициализаций обучить нейронную сеть несколько раз. Попробуйте проделать данную операцию при зафиксированном числе слоев равным 3, 4 и 5."
      ]
    },
    {
      "cell_type": "markdown",
      "metadata": {
        "id": "_3Y1fmrMi5V_"
      },
      "source": [
        "### 3 слоя\n",
        "\n",
        "Зафиксируйте в сети число слоев равное трем."
      ]
    },
    {
      "cell_type": "markdown",
      "metadata": {
        "id": "fXB9wX_Qi5V_"
      },
      "source": [
        "Заполните матрицы `accs_train` и `accs_test`. В позиции `[i, j]` должна стоять величина доли правильных ответов сети при $j$-м запуске (все запуски идентичны) с инициализацией Kaiming при $i = 3$, с инициализацией Xavier при $i = 4$ и с инициализацией из нормального распределения с фиксированными параметрами при $0 \\leqslant i \\leqslant 2$ (попробуйте здесь 3 разных параметра для стандартного отклонения для нормального распределения, например: `1e-3`, `1e-2`, `1e-1`). Заметьте, что при большом числе слоев слишком низкое стандартное отклонение может не давать нейронной сети нормально обучиться."
      ]
    },
    {
      "cell_type": "code",
      "execution_count": 72,
      "metadata": {
        "ExecuteTime": {
          "end_time": "2021-03-03T14:45:57.091744Z",
          "start_time": "2021-03-03T14:45:57.079777Z"
        },
        "id": "VbSFGeIzi5V_"
      },
      "outputs": [],
      "source": [
        "init_vars = [1e-3, 1e-2, 1e-1, 'Kaiming', 'Xavier']"
      ]
    },
    {
      "cell_type": "code",
      "execution_count": 73,
      "metadata": {
        "ExecuteTime": {
          "end_time": "2021-03-03T14:45:57.107701Z",
          "start_time": "2021-03-03T14:45:57.094737Z"
        },
        "id": "HLe0UFzhi5V_"
      },
      "outputs": [],
      "source": [
        "accs_train = np.zeros((5, 5))\n",
        "accs_test = np.zeros((5, 5))"
      ]
    },
    {
      "cell_type": "code",
      "execution_count": 74,
      "metadata": {
        "ExecuteTime": {
          "end_time": "2021-03-03T14:46:27.904407Z",
          "start_time": "2021-03-03T14:45:57.111690Z"
        },
        "id": "CEC-T3yQi5WA"
      },
      "outputs": [],
      "source": [
        "### your code here\n",
        "def exper_init(init_vars, n_layers):\n",
        "    for i in range(5):\n",
        "        for j in range(5):\n",
        "            network = make_network(input_size, hidden_layers_size, output_size, n_layers=n_layers)\n",
        "            initialize_network(network, init_vars[i])\n",
        "            # cb = Callback(network, X_train, y_train, X_test, y_test, print=False)\n",
        "            weights = get_weights(network)\n",
        "            res = minimize(\n",
        "                compute_loss_grad, weights,  \n",
        "                args=[network, X_train, y_train], \n",
        "                method=\"L-BFGS-B\",\n",
        "                jac=True\n",
        "                # callback=cb.call\n",
        "            )\n",
        "            set_weights(res['x'], network)\n",
        "            y_train_pred = predict(network, X_train)\n",
        "            y_test_pred = predict(network, X_test)\n",
        "            accs_train[i, j] = np.mean(y_train_pred == y_train)\n",
        "            accs_test[i, j] = np.mean(y_test_pred == y_test)\n"
      ]
    },
    {
      "cell_type": "code",
      "execution_count": 75,
      "metadata": {
        "id": "xK_kCvCOzQRo"
      },
      "outputs": [],
      "source": [
        "exper_init(init_vars, 3)"
      ]
    },
    {
      "cell_type": "markdown",
      "metadata": {
        "id": "AlAxc5Bvi5WA"
      },
      "source": [
        "Построим боксплоты полученного качества (горизонтальная линия в каждом столбце — среднее, прямоугольник показывает разброс)."
      ]
    },
    {
      "cell_type": "code",
      "execution_count": 76,
      "metadata": {
        "colab": {
          "base_uri": "https://localhost:8080/",
          "height": 0
        },
        "id": "69ysPJgBJfgs",
        "outputId": "dd6cd42b-6fb4-4507-cbc1-19280093f491"
      },
      "outputs": [
        {
          "data": {
            "image/png": "[encoded data removed]",
            "text/plain": [
              "<Figure size 720x360 with 1 Axes>"
            ]
          },
          "metadata": {
            "needs_background": "light"
          },
          "output_type": "display_data"
        }
      ],
      "source": [
        "init_vars_for_plot = [(x if isinstance(x, str) else fr\"$\\sigma = {x}$\") for x in init_vars]\n",
        "\n",
        "fig, ax = plt.subplots(1, 1, figsize=(10, 5))\n",
        "\n",
        "ax.boxplot(accs_train.T, labels=init_vars_for_plot, showfliers=False)\n",
        "\n",
        "ax.set_title(\"Train quality in 5 runs\")\n",
        "ax.set_xlabel(\"Initialization\")\n",
        "ax.set_ylabel(\"Train accuracy\")\n",
        "ax.grid(True)\n",
        "\n",
        "fig.tight_layout()\n",
        "plt.show()"
      ]
    },
    {
      "cell_type": "code",
      "execution_count": 77,
      "metadata": {
        "ExecuteTime": {
          "end_time": "2021-03-03T14:46:28.632502Z",
          "start_time": "2021-03-03T14:46:27.907401Z"
        },
        "colab": {
          "base_uri": "https://localhost:8080/",
          "height": 0
        },
        "id": "O8C7lSsfi5WA",
        "outputId": "a47484ce-e578-4776-d643-89012287e448",
        "scrolled": false
      },
      "outputs": [
        {
          "data": {
            "image/png": "[encoded data removed]",
            "text/plain": [
              "<Figure size 720x360 with 1 Axes>"
            ]
          },
          "metadata": {
            "needs_background": "light"
          },
          "output_type": "display_data"
        }
      ],
      "source": [
        "#my\n",
        "init_vars_for_plot = [(x if isinstance(x, str) else fr\"$\\sigma = {x}$\") for x in init_vars]\n",
        "\n",
        "fig, ax = plt.subplots(1, 1, figsize=(10, 5))\n",
        "\n",
        "ax.boxplot(accs_test.T, labels=init_vars_for_plot, showfliers=False)\n",
        "\n",
        "ax.set_title(\"Test quality in 5 runs\")\n",
        "ax.set_xlabel(\"Initialization\")\n",
        "ax.set_ylabel(\"Test accuracy\")\n",
        "ax.grid(True)\n",
        "\n",
        "fig.tight_layout()\n",
        "plt.show()"
      ]
    },
    {
      "cell_type": "markdown",
      "metadata": {
        "id": "xswI2iZzi5WA"
      },
      "source": [
        "### 4 слоя\n",
        "\n",
        "Выполните тут тот же код, что и в предыдущем пункте, но только уже с 4 слоями в сети."
      ]
    },
    {
      "cell_type": "code",
      "execution_count": 67,
      "metadata": {
        "ExecuteTime": {
          "end_time": "2021-03-03T14:45:57.091744Z",
          "start_time": "2021-03-03T14:45:57.079777Z"
        },
        "id": "TpCsrqNyi5WA"
      },
      "outputs": [],
      "source": [
        "init_vars = [5e-3, 1e-2, 1e-1, 'Kaiming', 'Xavier']"
      ]
    },
    {
      "cell_type": "code",
      "execution_count": 68,
      "metadata": {
        "ExecuteTime": {
          "end_time": "2021-03-03T14:45:57.107701Z",
          "start_time": "2021-03-03T14:45:57.094737Z"
        },
        "id": "EAKd0nDSi5WA"
      },
      "outputs": [],
      "source": [
        "accs_train = np.zeros((5, 5))\n",
        "accs_test = np.zeros((5, 5))"
      ]
    },
    {
      "cell_type": "code",
      "execution_count": 69,
      "metadata": {
        "ExecuteTime": {
          "end_time": "2021-03-03T14:46:27.904407Z",
          "start_time": "2021-03-03T14:45:57.111690Z"
        },
        "id": "60heGdUai5WA"
      },
      "outputs": [],
      "source": [
        "### your code here\n",
        "exper_init(init_vars, 4)\n"
      ]
    },
    {
      "cell_type": "markdown",
      "metadata": {
        "id": "wzFr_wdhi5WA"
      },
      "source": [
        "Построим боксплоты полученного качества (горизонтальная линия в каждом столбце — среднее, прямоугольник показывает разброс)."
      ]
    },
    {
      "cell_type": "code",
      "execution_count": 70,
      "metadata": {
        "colab": {
          "base_uri": "https://localhost:8080/",
          "height": 0
        },
        "id": "Ca3FqwUuJWmb",
        "outputId": "aa14a127-1d01-4a7e-f396-f49c7cecc578"
      },
      "outputs": [
        {
          "data": {
            "image/png": "[encoded data removed]",
            "text/plain": [
              "<Figure size 720x360 with 1 Axes>"
            ]
          },
          "metadata": {
            "needs_background": "light"
          },
          "output_type": "display_data"
        }
      ],
      "source": [
        "init_vars_for_plot = [(x if isinstance(x, str) else fr\"$\\sigma = {x}$\") for x in init_vars]\n",
        "\n",
        "fig, ax = plt.subplots(1, 1, figsize=(10, 5))\n",
        "\n",
        "ax.boxplot(accs_train.T, labels=init_vars_for_plot, showfliers=False)\n",
        "\n",
        "ax.set_title(\"Train quality in 5 runs\")\n",
        "ax.set_xlabel(\"Initialization\")\n",
        "ax.set_ylabel(\"Train accuracy\")\n",
        "ax.grid(True)\n",
        "\n",
        "fig.tight_layout()\n",
        "plt.show()"
      ]
    },
    {
      "cell_type": "code",
      "execution_count": 61,
      "metadata": {
        "colab": {
          "base_uri": "https://localhost:8080/",
          "height": 0
        },
        "id": "Or5PNM8Z1QUR",
        "outputId": "ffdf6916-ddd4-4503-cdfa-685e6bee8ef3"
      },
      "outputs": [
        {
          "data": {
            "image/png": "[encoded data removed]",
            "text/plain": [
              "<Figure size 720x360 with 1 Axes>"
            ]
          },
          "metadata": {
            "needs_background": "light"
          },
          "output_type": "display_data"
        }
      ],
      "source": [
        "#my\n",
        "init_vars_for_plot = [(x if isinstance(x, str) else fr\"$\\sigma = {x}$\") for x in init_vars]\n",
        "\n",
        "fig, ax = plt.subplots(1, 1, figsize=(10, 5))\n",
        "\n",
        "ax.boxplot(accs_test.T, labels=init_vars_for_plot, showfliers=False)\n",
        "\n",
        "ax.set_title(\"Test quality in 5 runs\")\n",
        "ax.set_xlabel(\"Initialization\")\n",
        "ax.set_ylabel(\"Test accuracy\")\n",
        "ax.grid(True)\n",
        "\n",
        "fig.tight_layout()\n",
        "plt.show()"
      ]
    },
    {
      "cell_type": "markdown",
      "metadata": {
        "id": "Hz1j58AWi5WB"
      },
      "source": [
        "### 5 слоев\n",
        "\n",
        "Выполните тут тот же код, что и в предыдущем пункте, но только уже с 5 слоями в сети."
      ]
    },
    {
      "cell_type": "code",
      "execution_count": 62,
      "metadata": {
        "ExecuteTime": {
          "end_time": "2021-03-03T14:45:57.091744Z",
          "start_time": "2021-03-03T14:45:57.079777Z"
        },
        "id": "d-3Oiy4Bi5WB"
      },
      "outputs": [],
      "source": [
        "init_vars = [1e-2, 1e-1, 1e0, 'Kaiming', 'Xavier']"
      ]
    },
    {
      "cell_type": "code",
      "execution_count": 63,
      "metadata": {
        "ExecuteTime": {
          "end_time": "2021-03-03T14:45:57.107701Z",
          "start_time": "2021-03-03T14:45:57.094737Z"
        },
        "id": "WqJWLDeKi5WB"
      },
      "outputs": [],
      "source": [
        "accs_train = np.zeros((5, 5))\n",
        "accs_test = np.zeros((5, 5))"
      ]
    },
    {
      "cell_type": "code",
      "execution_count": 64,
      "metadata": {
        "ExecuteTime": {
          "end_time": "2021-03-03T14:46:27.904407Z",
          "start_time": "2021-03-03T14:45:57.111690Z"
        },
        "id": "yYs4kObRi5WB"
      },
      "outputs": [],
      "source": [
        "### your code here\n",
        "exper_init(init_vars, 5)"
      ]
    },
    {
      "cell_type": "markdown",
      "metadata": {
        "id": "gPr-w7ZCi5WB"
      },
      "source": [
        "Построим боксплоты полученного качества (горизонтальная линия в каждом столбце — среднее, прямоугольник показывает разброс)."
      ]
    },
    {
      "cell_type": "code",
      "execution_count": 66,
      "metadata": {
        "colab": {
          "base_uri": "https://localhost:8080/",
          "height": 0
        },
        "id": "mrVQCs4QJTnL",
        "outputId": "bf419e02-d0a7-482c-877a-d8c065e9b7bc"
      },
      "outputs": [
        {
          "data": {
            "image/png": "[encoded data removed]",
            "text/plain": [
              "<Figure size 720x360 with 1 Axes>"
            ]
          },
          "metadata": {
            "needs_background": "light"
          },
          "output_type": "display_data"
        }
      ],
      "source": [
        "init_vars_for_plot = [(x if isinstance(x, str) else fr\"$\\sigma = {x}$\") for x in init_vars]\n",
        "\n",
        "fig, ax = plt.subplots(1, 1, figsize=(10, 5))\n",
        "\n",
        "ax.boxplot(accs_train.T, labels=init_vars_for_plot, showfliers=False)\n",
        "\n",
        "ax.set_title(\"Train quality in 5 runs\")\n",
        "ax.set_xlabel(\"Initialization\")\n",
        "ax.set_ylabel(\"Train accuracy\")\n",
        "ax.grid(True)\n",
        "\n",
        "fig.tight_layout()\n",
        "plt.show()"
      ]
    },
    {
      "cell_type": "code",
      "execution_count": 65,
      "metadata": {
        "colab": {
          "base_uri": "https://localhost:8080/",
          "height": 0
        },
        "id": "4j9ZbUNa156c",
        "outputId": "d70ffa93-16f4-4ffc-d73d-9f808aaf4dbd"
      },
      "outputs": [
        {
          "data": {
            "image/png": "[encoded data removed]",
            "text/plain": [
              "<Figure size 720x360 with 1 Axes>"
            ]
          },
          "metadata": {
            "needs_background": "light"
          },
          "output_type": "display_data"
        }
      ],
      "source": [
        "#my\n",
        "init_vars_for_plot = [(x if isinstance(x, str) else fr\"$\\sigma = {x}$\") for x in init_vars]\n",
        "\n",
        "fig, ax = plt.subplots(1, 1, figsize=(10, 5))\n",
        "\n",
        "ax.boxplot(accs_test.T, labels=init_vars_for_plot, showfliers=False)\n",
        "\n",
        "ax.set_title(\"Test quality in 5 runs\")\n",
        "ax.set_xlabel(\"Initialization\")\n",
        "ax.set_ylabel(\"Test accuracy\")\n",
        "ax.grid(True)\n",
        "\n",
        "fig.tight_layout()\n",
        "plt.show()"
      ]
    },
    {
      "cell_type": "markdown",
      "metadata": {
        "id": "jbg2O-ffi5WB"
      },
      "source": [
        "Дайте развёрнутый ответ на вопросы (в этой же ячейке):\n",
        "* Как отличаются качество на обучении и контроле и устойчивость процесса обучения при различных инициализациях?\n",
        "* Какие инициализации помогают обучать более глубокие сети?\n",
        "\n",
        "__Ответы:__\n",
        "\n",
        "Качество на обучении везде равна 1, кроме пятислойной модели, где проводилась инициализация с $\\sigma = 1$. Скорее всего модель при такой инициализации приходит в локальный миниму, из коготого не может выйти. Поэтому качество на тесте и обучении при такой инициализации низкое, а разброс большой.\n",
        "\n",
        "Также можно заметить, что инциализация с помощью Kaiming и Xavier даёт более высокое каечство на тесте, при этом модели более устойчивые. Из этого можно сделать вывод, что в глубоких нейронных сетях прдепочтительнее при инициализации использовать Kaiming или Xavier."
      ]
    },
    {
      "cell_type": "markdown",
      "metadata": {
        "id": "bb_rKGWUi5WC"
      },
      "source": [
        "Теперь сравним скорость обучения при различных инициализациях. Создайте два списка списков `accs_test_on_iterations`, `accs_train_on_iterations` в каждом из которых в позиции `[i]` (см. описание `i` в предыдущем пункте) будет лежать список из значений `accuracy` на тестовой и обучающей выборках соотвественно, полученных во время обучения модели. Количество слоев в сети зафиксируйте равным 4."
      ]
    },
    {
      "cell_type": "code",
      "execution_count": 78,
      "metadata": {
        "ExecuteTime": {
          "end_time": "2021-03-03T14:45:57.091744Z",
          "start_time": "2021-03-03T14:45:57.079777Z"
        },
        "id": "TmFCPwYAi5WC"
      },
      "outputs": [],
      "source": [
        "init_vars = [1e-3, 1e-2, 1e-1, 'Kaiming', 'Xavier']"
      ]
    },
    {
      "cell_type": "code",
      "execution_count": 79,
      "metadata": {
        "ExecuteTime": {
          "end_time": "2021-03-03T14:46:28.647453Z",
          "start_time": "2021-03-03T14:46:28.635495Z"
        },
        "id": "2cmFkjXoi5WC"
      },
      "outputs": [],
      "source": [
        "accs_test_on_iterations = []\n",
        "accs_train_on_iterations = []"
      ]
    },
    {
      "cell_type": "code",
      "execution_count": 80,
      "metadata": {
        "ExecuteTime": {
          "end_time": "2021-03-03T14:46:34.433662Z",
          "start_time": "2021-03-03T14:46:28.650417Z"
        },
        "id": "mXmdCWzmi5WC"
      },
      "outputs": [],
      "source": [
        "### your code here\n",
        "for i in init_vars:\n",
        "    network = make_network(input_size, hidden_layers_size, output_size, n_layers=4)\n",
        "    initialize_network(network, i)\n",
        "    weights = get_weights(network)\n",
        "    cb = Callback(network, X_train, y_train, X_test, y_test, print=False)\n",
        "    res = minimize(\n",
        "        compute_loss_grad, weights,  \n",
        "        args=[network, X_train, y_train], \n",
        "        method=\"L-BFGS-B\",\n",
        "        jac=True,\n",
        "        callback=cb.call\n",
        "    )\n",
        "    # print(res['success'], res['nit'])\n",
        "    accs_test_on_iterations.append(cb.test_acc)\n",
        "    accs_train_on_iterations.append(cb.train_acc)\n"
      ]
    },
    {
      "cell_type": "code",
      "execution_count": 81,
      "metadata": {
        "ExecuteTime": {
          "end_time": "2021-03-03T14:46:34.875348Z",
          "start_time": "2021-03-03T14:46:34.436663Z"
        },
        "colab": {
          "base_uri": "https://localhost:8080/",
          "height": 0
        },
        "id": "W6AeAa9Ii5WC",
        "outputId": "dbe4f43c-7640-449a-8e16-f67c15b9a06b"
      },
      "outputs": [
        {
          "data": {
            "image/png": "[encoded data removed]",
            "text/plain": [
              "<Figure size 720x360 with 1 Axes>"
            ]
          },
          "metadata": {
            "needs_background": "light"
          },
          "output_type": "display_data"
        }
      ],
      "source": [
        "fig, ax = plt.subplots(1, 1, figsize=(10, 5))\n",
        "\n",
        "for idx, label in enumerate(init_vars_for_plot):\n",
        "    ax.plot(accs_test_on_iterations[idx], label=label)\n",
        "\n",
        "ax.set_title(\"Test quality for different initializations\")\n",
        "ax.set_xlabel(\"Epoch number\")\n",
        "ax.set_ylabel(\"Test accuracy\")\n",
        "ax.grid(True)\n",
        "ax.legend()\n",
        "\n",
        "fig.tight_layout()\n",
        "plt.show()"
      ]
    },
    {
      "cell_type": "markdown",
      "metadata": {
        "ExecuteTime": {
          "end_time": "2021-03-03T14:37:15.087902Z",
          "start_time": "2021-03-03T14:37:15.065996Z"
        },
        "id": "LpVR7Z0ji5WC"
      },
      "source": [
        "Дайте развёрнутый ответ на вопросы (в этой же ячейке):\n",
        "* Как меняется скорость обучения в зависимости от выбранной инициализации?\n",
        "\n",
        "__Ответы:__\n",
        "\n",
        "Заметим, что при $\\sigma = 0.01$ очень долго. При $\\sigma = 0.001$ скорее всего модель пришла в глобальный минимум. При остальных инициализациях модель довольно быстро обучиется. Быстрее всех на плато выходит модель с инициализацией Kaiming."
      ]
    },
    {
      "cell_type": "markdown",
      "metadata": {
        "id": "FcMTWRb1i5WC"
      },
      "source": [
        "## Эксперименты c различными функциями активации (1 балл)"
      ]
    },
    {
      "cell_type": "markdown",
      "metadata": {
        "id": "WRppWM5Yi5WC"
      },
      "source": [
        "Проверим теперь, с какой функцией активации нейронная сеть будет обучаться лучше.\n",
        "\n",
        "В этом пункте вам предлагается попробовать обучить несколько нейронных сетей с различными функциями активации.\n",
        "\n",
        "Для этого нам нужно реализовать еще 2 слоя: для функций активации `Tanh` и `Sigmoid`."
      ]
    },
    {
      "cell_type": "code",
      "execution_count": 82,
      "metadata": {
        "ExecuteTime": {
          "end_time": "2021-03-03T14:46:34.891308Z",
          "start_time": "2021-03-03T14:46:34.878379Z"
        },
        "id": "baEIzK7qi5WD"
      },
      "outputs": [],
      "source": [
        "class Tanh:\n",
        "    \"\"\"\n",
        "    tanh(y) = (e^y - e^(-y)) / (e^y + e^(-y))\n",
        "    Используйте функцию np.tanh для подсчета гиперболического тангенса.\n",
        "    Вы можете сами реализовать подсчет tanh, но тогда вам нужно устойчиво его вычислять.\n",
        "    \"\"\"\n",
        "    def __init__(self):\n",
        "        self.params = [] # Tanh has no parameters\n",
        "        self.val = None\n",
        "\n",
        "    def forward(self, input):\n",
        "        \"\"\"\n",
        "        Apply elementwise Tanh to [batch, num_units] matrix\n",
        "        \"\"\"\n",
        "        ### your code here\n",
        "        self.val = np.tanh(input)\n",
        "        return self.val\n",
        "\n",
        "    def backward(self, grad_output):\n",
        "        \"\"\"\n",
        "        Compute gradient of loss w.r.t. Tanh input\n",
        "        grad_output shape: [batch, num_units]\n",
        "        output 1 shape: [batch, num_units]\n",
        "        output 2: []\n",
        "        \"\"\"\n",
        "        ### your code here\n",
        "        dz = 1 - np.square(self.val)\n",
        "        return grad_output * dz, []\n",
        "\n",
        "\n",
        "    def __repr__(self):\n",
        "        return 'Tanh()'"
      ]
    },
    {
      "cell_type": "code",
      "execution_count": 83,
      "metadata": {
        "id": "fVDdlA_-C4ir"
      },
      "outputs": [],
      "source": [
        "tanh = Tanh()\n",
        "points = np.linspace(-1, 1, 10*12).reshape([10, 12])\n",
        "\n",
        "### your code here\n",
        "def f(x):\n",
        "    y = np.tanh(x)\n",
        "    return np.sum(y)\n",
        "\n",
        "tanh.forward(points)\n",
        "grads = tanh.backward(np.ones((10, 12)))[0]\n",
        "numeric_grads = eval_numerical_gradient(f, points, verbose=False, h=0.00001)\n",
        "\n",
        "assert np.allclose(grads, numeric_grads, rtol=1e-3, atol=0)"
      ]
    },
    {
      "cell_type": "code",
      "execution_count": 84,
      "metadata": {
        "ExecuteTime": {
          "end_time": "2021-03-03T14:46:34.907337Z",
          "start_time": "2021-03-03T14:46:34.894300Z"
        },
        "id": "babUVwgWi5WD"
      },
      "outputs": [],
      "source": [
        "from scipy.special import expit\n",
        "    \n",
        "class Sigmoid:\n",
        "    \"\"\"\n",
        "    sigmoid(y) = 1 / (1 + e^(-y))\n",
        "    Используйте функцию expit для подсчета сигмоиды.\n",
        "    Вы можете сами реализовать подсчет сигмоиды, но тогда вам нужно устойчиво ее вычислять.\n",
        "    \"\"\"\n",
        "    def __init__(self):\n",
        "        self.params = [] # Sigmoid has no parameters\n",
        "        self.sig = None\n",
        "        self.var = None\n",
        "\n",
        "    def forward(self, input):\n",
        "        \"\"\"\n",
        "        Apply elementwise Sigmoid to [batch, num_units] matrix\n",
        "        \"\"\"\n",
        "        ### your code here\n",
        "        self.sig = expit(input)\n",
        "        self.var = input\n",
        "        return self.sig\n",
        "\n",
        "    def backward(self, grad_output):\n",
        "        \"\"\"\n",
        "        Compute gradient of loss w.r.t. Sigmoid input\n",
        "        grad_output shape: [batch, num_units]\n",
        "        output 1 shape: [batch, num_units]\n",
        "        output 2: []\n",
        "        \"\"\"\n",
        "        ### your code here\n",
        "        dz = np.exp(-self.var)* np.square(self.sig)\n",
        "        return grad_output * dz, []\n",
        "\n",
        "    def __repr__(self):\n",
        "        return 'Sigmoid()'"
      ]
    },
    {
      "cell_type": "code",
      "execution_count": 85,
      "metadata": {
        "id": "SDHx3c_I_wmj"
      },
      "outputs": [],
      "source": [
        "sig = Sigmoid()\n",
        "points = np.linspace(-1, 1, 10*12).reshape([10, 12])\n",
        "\n",
        "### your code here\n",
        "def f(x):\n",
        "    y = expit(x)\n",
        "    return np.sum(y)\n",
        "\n",
        "sig.forward(points)\n",
        "grads = sig.backward(np.ones((10, 12)))[0]\n",
        "numeric_grads = eval_numerical_gradient(f, points, verbose=False, h=0.00001)\n",
        "\n",
        "assert np.allclose(grads, numeric_grads, rtol=1e-3, atol=0)"
      ]
    },
    {
      "cell_type": "markdown",
      "metadata": {
        "id": "HsTZ09n8i5WD"
      },
      "source": [
        "Теперь попробуйте для каждой из 3 функций активации обучить нейронную сеть несколько раз. Число слоев зафиксируйте равным 3. В случае `Tanh` и `Sigmoid` используйте инициализацию `Xavier`, а в случае `ReLU` используйте инициализацию `Kaiming`."
      ]
    },
    {
      "cell_type": "markdown",
      "metadata": {
        "id": "j9gU0rqei5WD"
      },
      "source": [
        "Заполните матрицы `accs_train` и `accs_test`. В позиции `[i, j]` должна стоять величина доли правильных ответов сети при $j$-м запуске (все запуски идентичны) с функцией активации $ReLU$ при $i = 0$, с функцией активации $Tanh$ при $i = 1$ и с функцией активации $Sigmoid$ при $i = 2$."
      ]
    },
    {
      "cell_type": "code",
      "execution_count": 86,
      "metadata": {
        "ExecuteTime": {
          "end_time": "2021-03-03T14:46:34.922732Z",
          "start_time": "2021-03-03T14:46:34.910271Z"
        },
        "id": "UmdxougRi5WD"
      },
      "outputs": [],
      "source": [
        "act_func_vars = ['Tanh', 'Sigmoid', 'ReLU']\n",
        "init_for_act_funcs = ['Xavier', 'Xavier', 'Kaiming']"
      ]
    },
    {
      "cell_type": "code",
      "execution_count": 87,
      "metadata": {
        "ExecuteTime": {
          "end_time": "2021-03-03T14:46:34.938935Z",
          "start_time": "2021-03-03T14:46:34.925724Z"
        },
        "id": "1X5J5m6xi5WD"
      },
      "outputs": [],
      "source": [
        "accs_train = np.zeros((3, 5))\n",
        "accs_test = np.zeros((3, 5))"
      ]
    },
    {
      "cell_type": "code",
      "execution_count": 88,
      "metadata": {
        "colab": {
          "base_uri": "https://localhost:8080/"
        },
        "id": "V_VxYRAuK2sS",
        "outputId": "450f3e87-2c43-4ed9-959d-487f7809d803"
      },
      "outputs": [
        {
          "name": "stdout",
          "output_type": "stream",
          "text": [
            "Help on function make_network in module __main__:\n",
            "\n",
            "make_network(input_size, hidden_layers_size, output_size, n_layers=3, activation_class=<class '__main__.ReLU'>)\n",
            "\n"
          ]
        }
      ],
      "source": [
        "help(make_network)"
      ]
    },
    {
      "cell_type": "code",
      "execution_count": 89,
      "metadata": {
        "ExecuteTime": {
          "end_time": "2021-03-03T14:47:04.514986Z",
          "start_time": "2021-03-03T14:46:34.941104Z"
        },
        "colab": {
          "base_uri": "https://localhost:8080/"
        },
        "id": "X481cMTsi5WD",
        "outputId": "55ca038d-71ac-4d01-8dab-b20067abb53c"
      },
      "outputs": [
        {
          "name": "stderr",
          "output_type": "stream",
          "text": [
            "/usr/local/lib/python3.7/dist-packages/ipykernel_launcher.py:31: RuntimeWarning: overflow encountered in exp\n",
            "/usr/local/lib/python3.7/dist-packages/ipykernel_launcher.py:31: RuntimeWarning: invalid value encountered in multiply\n"
          ]
        }
      ],
      "source": [
        "### your code here\n",
        "for i in range(3):\n",
        "    for j in range(5):\n",
        "        if act_func_vars[i]=='Tanh':\n",
        "            network = make_network(input_size, hidden_layers_size, output_size, n_layers=3, activation_class=Tanh)\n",
        "        if act_func_vars[i]=='Sigmoid':\n",
        "            network = make_network(input_size, hidden_layers_size, output_size, n_layers=3, activation_class=Sigmoid)\n",
        "        if act_func_vars[i]=='ReLU':\n",
        "            network = make_network(input_size, hidden_layers_size, output_size, n_layers=3, activation_class=ReLU)\n",
        "        initialize_network(network, init_for_act_funcs[i])\n",
        "        # cb = Callback(network, X_train, y_train, X_test, y_test, print=False)\n",
        "        weights = get_weights(network)\n",
        "        res = minimize(\n",
        "            compute_loss_grad, weights,  \n",
        "            args=[network, X_train, y_train], \n",
        "            method=\"L-BFGS-B\",\n",
        "            jac=True\n",
        "            # callback=cb.call\n",
        "        )\n",
        "        set_weights(res['x'], network)\n",
        "        y_train_pred = predict(network, X_train)\n",
        "        y_test_pred = predict(network, X_test)\n",
        "        accs_train[i, j] = np.mean(y_train_pred == y_train)\n",
        "        accs_test[i, j] = np.mean(y_test_pred == y_test)"
      ]
    },
    {
      "cell_type": "markdown",
      "metadata": {
        "id": "h8CCNJKCi5WD"
      },
      "source": [
        "Построим боксплоты полученного качества (горизонтальная линия в каждом столбце — среднее, прямоугольник показывает разброс)."
      ]
    },
    {
      "cell_type": "code",
      "execution_count": 91,
      "metadata": {
        "colab": {
          "base_uri": "https://localhost:8080/",
          "height": 0
        },
        "id": "KuxezJniMhC0",
        "outputId": "76dc383c-ab5a-4f7d-e6d1-07a467a06b2f"
      },
      "outputs": [
        {
          "data": {
            "image/png": "[encoded data removed]",
            "text/plain": [
              "<Figure size 720x360 with 1 Axes>"
            ]
          },
          "metadata": {
            "needs_background": "light"
          },
          "output_type": "display_data"
        }
      ],
      "source": [
        "fig, ax = plt.subplots(1, 1, figsize=(10, 5))\n",
        "\n",
        "ax.boxplot(accs_train.T, labels=act_func_vars, showfliers=False)\n",
        "\n",
        "ax.set_title(\"Train quality in 5 runs\")\n",
        "ax.set_xlabel(\"Activation function\")\n",
        "ax.set_ylabel(\"Train accuracy\")\n",
        "ax.grid(True)\n",
        "\n",
        "fig.tight_layout()\n",
        "plt.show()"
      ]
    },
    {
      "cell_type": "code",
      "execution_count": 90,
      "metadata": {
        "ExecuteTime": {
          "end_time": "2021-03-03T14:47:04.783320Z",
          "start_time": "2021-03-03T14:47:04.517701Z"
        },
        "colab": {
          "base_uri": "https://localhost:8080/",
          "height": 0
        },
        "id": "sbOpfS8Ni5WE",
        "outputId": "cedb84ed-0090-4236-a77c-283f6a8fa0cb"
      },
      "outputs": [
        {
          "data": {
            "image/png": "[encoded data removed]",
            "text/plain": [
              "<Figure size 720x360 with 1 Axes>"
            ]
          },
          "metadata": {
            "needs_background": "light"
          },
          "output_type": "display_data"
        }
      ],
      "source": [
        "fig, ax = plt.subplots(1, 1, figsize=(10, 5))\n",
        "\n",
        "ax.boxplot(accs_test.T, labels=act_func_vars, showfliers=False)\n",
        "\n",
        "ax.set_title(\"Test quality in 5 runs\")\n",
        "ax.set_xlabel(\"Activation function\")\n",
        "ax.set_ylabel(\"Test accuracy\")\n",
        "ax.grid(True)\n",
        "\n",
        "fig.tight_layout()\n",
        "plt.show()"
      ]
    },
    {
      "cell_type": "markdown",
      "metadata": {
        "id": "xmr0Ob4Ai5WE"
      },
      "source": [
        "Дайте развёрнутый ответ на вопросы (в этой же ячейке):\n",
        "* Как отличаются качество на обучении и контроле и устойчивость процесса обучения при различных функциях активации?\n",
        "\n",
        "__Ответы:__\n",
        "\n",
        "У сигмоиды качество на тесте хуже всех. А на обучении в среднем она показывает 1, но у неё есть разброс.(как и на тесте) Скорее всего это свзяано с затуханием градиента, а следовательно недообучености модели, которое возникает при использовании данной функции активации. Тангенс и ReLU на обучении дают 1, а на контроле ReLU в данном случае показывает каечство лучше. У обоих функций примерно одинаковый разброс."
      ]
    },
    {
      "cell_type": "markdown",
      "metadata": {
        "id": "w9Zpw0Zyi5WE"
      },
      "source": [
        "\\* Несколько фрагментов кода в задании написаны на основе материалов [курса по глубинному обучению на ФКН НИУ ВШЭ](https://www.hse.ru/ba/ami/courses/205504078.html)"
      ]
    },
    {
      "cell_type": "markdown",
      "metadata": {
        "id": "bPxuovRQi5WE"
      },
      "source": [
        "## Бонусная часть"
      ]
    },
    {
      "cell_type": "markdown",
      "metadata": {
        "id": "Q5nLxwD3i5WE"
      },
      "source": [
        "## Реализация метода оптимизации (1 балл)\n",
        "\n",
        "Реализуйте сами метод оптимизации (аналог функции `minimize`) для рассмотренной выше архитектуры. В качестве метода оптимизации используйте SGD + momentum. Продемонстрируйте правильную работу метода оптимизации, сравните его работу с LBFGS-B. Сделайте выводы."
      ]
    },
    {
      "cell_type": "code",
      "execution_count": 109,
      "metadata": {
        "id": "MYsGAcAKoAbj"
      },
      "outputs": [],
      "source": [
        "def sgd_momentum(max_iter, network, batch_size=100, gamma=0.5, alpha=0.01, log_freq=0.001, callback=None, tol=None):\n",
        "    w = get_weights(network)\n",
        "    sdvig = 0 #???\n",
        "    i = 0\n",
        "    k_ind = 1\n",
        "    Ind = np.random.permutation(X_train.shape[0])\n",
        "    # epoha_old = 0\n",
        "    # epoha_new = 0\n",
        "    # epoch_num=[]\n",
        "    llh_old = 0\n",
        "\n",
        "    while i <= max_iter:\n",
        "        # epoha_new += batch_size\n",
        "        if (k_ind - 1)*batch_size >= X_train.shape[0]:\n",
        "                Ind = np.random.permutation(X_train.shape[0])\n",
        "                k_ind = 1\n",
        "        X_batch = X_train[Ind[(k_ind - 1)*batch_size: k_ind*batch_size]]\n",
        "        y_batch = y_train[Ind[(k_ind - 1)*batch_size: k_ind*batch_size]]\n",
        "        llh_new, grad = compute_loss_grad(w, (network, X_batch, y_batch))\n",
        "        sdvig = gamma*sdvig - (1 - gamma)*grad\n",
        "        w = w + alpha*sdvig\n",
        "        set_weights(w, network)\n",
        "        if callback is not None:\n",
        "            # if (epoha_new - epoha_old) / X_train.shape[0] > log_freq:\n",
        "            #     epoch_num.append(epoha_new / X.shape[0])\n",
        "            #     epoha_old = epoha_new\n",
        "                callback(w)\n",
        "        i+=1\n",
        "        k_ind += 1\n",
        "        if tol is not None:\n",
        "            if abs(llh_old - llh_new) < tol:\n",
        "                break\n",
        "            llh_new = llh_old\n",
        "    return w"
      ]
    },
    {
      "cell_type": "markdown",
      "metadata": {
        "id": "yeUgkEyh0YZq"
      },
      "source": [
        "## Зависимость от количества итераций"
      ]
    },
    {
      "cell_type": "code",
      "execution_count": 110,
      "metadata": {
        "id": "pjwnVuJQ8WMW"
      },
      "outputs": [],
      "source": [
        "network = make_network(input_size, hidden_layers_size, output_size, n_layers=2)\n",
        "cb = Callback(network, X_train, y_train, X_test, y_test, print=False)"
      ]
    },
    {
      "cell_type": "code",
      "execution_count": 111,
      "metadata": {
        "id": "7AtHA9xY9mNq"
      },
      "outputs": [],
      "source": [
        "w = sgd_momentum(2000, network, batch_size=1000, callback=cb.call)"
      ]
    },
    {
      "cell_type": "code",
      "execution_count": 112,
      "metadata": {
        "colab": {
          "base_uri": "https://localhost:8080/"
        },
        "id": "ArxncdJF-b0i",
        "outputId": "8145c6b0-598e-4876-c105-0146f6f2d89e"
      },
      "outputs": [
        {
          "data": {
            "text/plain": [
              "[0.9948032665181886,\n",
              " 0.9948032665181886,\n",
              " 0.9948032665181886,\n",
              " 0.9948032665181886,\n",
              " 0.9948032665181886,\n",
              " 0.9948032665181886,\n",
              " 0.9955456570155902,\n",
              " 0.9955456570155902,\n",
              " 0.9955456570155902,\n",
              " 0.9955456570155902]"
            ]
          },
          "execution_count": 112,
          "metadata": {},
          "output_type": "execute_result"
        }
      ],
      "source": [
        "cb.train_acc[-10:]"
      ]
    },
    {
      "cell_type": "code",
      "execution_count": 114,
      "metadata": {
        "colab": {
          "base_uri": "https://localhost:8080/",
          "height": 0
        },
        "id": "f1-tEFJiXD6v",
        "outputId": "b009be33-b954-44c4-c647-cf536b00a1bf"
      },
      "outputs": [
        {
          "data": {
            "image/png": "[encoded data removed]",
            "text/plain": [
              "<Figure size 864x504 with 1 Axes>"
            ]
          },
          "metadata": {
            "needs_background": "light"
          },
          "output_type": "display_data"
        }
      ],
      "source": [
        "plt.figure(figsize=(12,7))\n",
        "plt.title('График зависимости точности на тесте от количества итераций',fontsize=15)\n",
        "\n",
        "plt.plot(range(len(cb.test_acc)), cb.test_acc)\n",
        "plt.grid(True) \n",
        "plt.xticks(range(0, len(cb.test_acc),200))\n",
        "a = list(np.linspace(0, 1, 11))\n",
        "a.append(cb.test_acc[-1])\n",
        "plt.yticks(a)\n",
        "plt.ylabel('Точность на тесте',  fontsize=13)\n",
        "plt.xlabel('Количество итераций',  fontsize=13)\n",
        "\n",
        "plt.show()"
      ]
    },
    {
      "cell_type": "markdown",
      "metadata": {
        "id": "IrOdedhcfzeF"
      },
      "source": [
        "**Вывод:** C количеством итераций точность на тесте выходит на плато. Также заметно, что график не является монотонным. А выйдя на плато точность варьируется где-то в окрестности. Примерно 400 итераций хватает, чтобы выйти на плато.(в двуслойной моделе)"
      ]
    },
    {
      "cell_type": "markdown",
      "metadata": {
        "id": "iLVPgORD0iv2"
      },
      "source": [
        "## Зависимость от размера батча"
      ]
    },
    {
      "cell_type": "code",
      "execution_count": 115,
      "metadata": {
        "id": "8FnGYC9bduZI"
      },
      "outputs": [],
      "source": [
        "batch_list = [1, 10, 20, 50, 70, 100, 200, 300, 400, 500, 600, 700, 800, 900, 1000, 1347]\n",
        "acc_test_batch=[]\n",
        "\n",
        "for batch_size in batch_list:\n",
        "    network = make_network(input_size, hidden_layers_size, output_size, n_layers=2)\n",
        "    cb = Callback(network, X_train, y_train, X_test, y_test, print=False)\n",
        "    w = sgd_momentum(5000, network, batch_size, callback=cb.call, tol=1e-5)\n",
        "    acc_test_batch.append(cb.test_acc[-1])\n"
      ]
    },
    {
      "cell_type": "code",
      "execution_count": 118,
      "metadata": {
        "colab": {
          "base_uri": "https://localhost:8080/",
          "height": 0
        },
        "id": "F97LgwJ0hoIZ",
        "outputId": "9d648757-3910-4eee-8146-51f1e03619fa"
      },
      "outputs": [
        {
          "data": {
            "image/png": "[encoded data removed]",
            "text/plain": [
              "<Figure size 864x504 with 1 Axes>"
            ]
          },
          "metadata": {
            "needs_background": "light"
          },
          "output_type": "display_data"
        }
      ],
      "source": [
        "plt.figure(figsize=(12,7))\n",
        "plt.title('График зависимости точности на тесте от размера батча',fontsize=15)\n",
        "\n",
        "plt.plot(batch_list, acc_test_batch)\n",
        "plt.grid(True) \n",
        "plt.xticks([1, 50, 100, 200, 300, 400, 500, 600, 700, 800, 900, 1000, 1347])\n",
        "# a = list(np.linspace(0, 1, 11))\n",
        "# a.append(cb.test_acc[-1])\n",
        "# plt.yticks(a)\n",
        "plt.ylabel('Точность на тесте',  fontsize=13)\n",
        "plt.xlabel('Размер батча',  fontsize=13)\n",
        "plt.show()"
      ]
    },
    {
      "cell_type": "code",
      "execution_count": null,
      "metadata": {
        "id": "B42v5DXbQiOJ"
      },
      "outputs": [],
      "source": []
    },
    {
      "cell_type": "markdown",
      "metadata": {
        "id": "nvFtwe1YQkzt"
      },
      "source": [
        "**Вывод:** точность на тесте не меняется сильно уже при размере батча больше 50"
      ]
    },
    {
      "cell_type": "markdown",
      "metadata": {
        "id": "PMpWYtQ_mj1n"
      },
      "source": [
        "## Эксперименты с числом слоёв"
      ]
    },
    {
      "cell_type": "code",
      "execution_count": 119,
      "metadata": {
        "id": "T1byxj19mTMh"
      },
      "outputs": [],
      "source": [
        "accs_train = np.zeros((5, 5))\n",
        "accs_test = np.zeros((5, 5))\n",
        "\n",
        "for i in range(5):\n",
        "    for j in range(5):\n",
        "        network = make_network(input_size, hidden_layers_size, output_size, n_layers=i+1)\n",
        "        weights = get_weights(network)\n",
        "        w = sgd_momentum(5000, network, batch_size=100, tol=1e-5)\n",
        "        set_weights(w, network)\n",
        "        y_train_pred = predict(network, X_train)\n",
        "        y_test_pred = predict(network, X_test)\n",
        "        accs_train[i, j] = np.mean(y_train_pred == y_train)\n",
        "        accs_test[i, j] = np.mean(y_test_pred == y_test)"
      ]
    },
    {
      "cell_type": "code",
      "execution_count": 120,
      "metadata": {
        "colab": {
          "base_uri": "https://localhost:8080/",
          "height": 585
        },
        "id": "rUlrxbF1nZn_",
        "outputId": "6f0f76a6-45c0-4572-fa26-4cbb61121817"
      },
      "outputs": [
        {
          "data": {
            "image/png": "[encoded data removed]",
            "text/plain": [
              "<Figure size 720x576 with 2 Axes>"
            ]
          },
          "metadata": {
            "needs_background": "light"
          },
          "output_type": "display_data"
        }
      ],
      "source": [
        "fig, axes = plt.subplots(2, 1, figsize=(10, 8))\n",
        "\n",
        "axes[0].boxplot(accs_train.T, showfliers=False)\n",
        "axes[1].boxplot(accs_test.T, showfliers=False)\n",
        "\n",
        "axes[0].set_xlabel(\"Number of layers\")\n",
        "axes[1].set_xlabel(\"Number of layers\")\n",
        "\n",
        "axes[0].set_ylabel(\"Train accuracy\")\n",
        "axes[1].set_ylabel(\"Test accuracy\")\n",
        "\n",
        "axes[0].set_title(\"Train quality in 5 runs\")\n",
        "axes[1].set_title(\"Test quality in 5 runs\")\n",
        "\n",
        "axes[0].grid(True)\n",
        "axes[1].grid(True)\n",
        "\n",
        "fig.tight_layout()\n",
        "plt.show()"
      ]
    },
    {
      "cell_type": "markdown",
      "metadata": {
        "id": "wAquVaJjRj9r"
      },
      "source": [
        "**Вывод:** в алгорите LBFGS-B качество на обучении давало 1, в sgd+momentum при большом количестве слоев (4-5) алгоритм заходт в локальные минимумы. При этом можно заметить, что у алгоритма sgd+momentum намного меньше разброс на контроле. Это означает, что модель более устойчива к выбросам. "
      ]
    },
    {
      "cell_type": "markdown",
      "metadata": {
        "id": "lCQMCBxKyiWu"
      },
      "source": [
        "## Эскперименты с инциализацией"
      ]
    },
    {
      "cell_type": "code",
      "execution_count": 121,
      "metadata": {
        "id": "zt0newKMyDPR"
      },
      "outputs": [],
      "source": [
        "init_vars = [1e-3, 1e-2, 1e-1, 'Kaiming', 'Xavier']\n",
        "accs_train = np.zeros((5, 5))\n",
        "accs_test = np.zeros((5, 5))"
      ]
    },
    {
      "cell_type": "code",
      "execution_count": 122,
      "metadata": {
        "id": "tTX_P658ymy8"
      },
      "outputs": [],
      "source": [
        "def exper_init(init_vars, n_layers):\n",
        "    for i in range(5):\n",
        "        for j in range(5):\n",
        "            network = make_network(input_size, hidden_layers_size, output_size, n_layers=n_layers)\n",
        "            initialize_network(network, init_vars[i])\n",
        "            # cb = Callback(network, X_train, y_train, X_test, y_test, print=False)\n",
        "            weights = get_weights(network)\n",
        "            w = sgd_momentum(5000, network, batch_size=100, tol=1e-5)\n",
        "            set_weights(w, network)\n",
        "            y_train_pred = predict(network, X_train)\n",
        "            y_test_pred = predict(network, X_test)\n",
        "            accs_train[i, j] = np.mean(y_train_pred == y_train)\n",
        "            accs_test[i, j] = np.mean(y_test_pred == y_test)"
      ]
    },
    {
      "cell_type": "markdown",
      "metadata": {
        "id": "oZAXlfuVzuCr"
      },
      "source": [
        "### 3 слоя"
      ]
    },
    {
      "cell_type": "code",
      "execution_count": 123,
      "metadata": {
        "id": "Kh2fxXi6y9xG"
      },
      "outputs": [],
      "source": [
        "exper_init(init_vars, 3)"
      ]
    },
    {
      "cell_type": "code",
      "execution_count": 124,
      "metadata": {
        "colab": {
          "base_uri": "https://localhost:8080/",
          "height": 369
        },
        "id": "ywuUxNCzzG1J",
        "outputId": "8dc57fc4-b2a3-4822-bb79-a99318b3a6d1"
      },
      "outputs": [
        {
          "data": {
            "image/png": "[encoded data removed]",
            "text/plain": [
              "<Figure size 720x360 with 1 Axes>"
            ]
          },
          "metadata": {
            "needs_background": "light"
          },
          "output_type": "display_data"
        }
      ],
      "source": [
        "init_vars_for_plot = [(x if isinstance(x, str) else fr\"$\\sigma = {x}$\") for x in init_vars]\n",
        "\n",
        "fig, ax = plt.subplots(1, 1, figsize=(10, 5))\n",
        "\n",
        "ax.boxplot(accs_test.T, labels=init_vars_for_plot, showfliers=False)\n",
        "\n",
        "ax.set_title(\"Test quality in 5 runs\")\n",
        "ax.set_xlabel(\"Initialization\")\n",
        "ax.set_ylabel(\"Test accuracy\")\n",
        "ax.grid(True)\n",
        "\n",
        "fig.tight_layout()\n",
        "plt.show()"
      ]
    },
    {
      "cell_type": "markdown",
      "metadata": {
        "id": "0L92atRe0CUT"
      },
      "source": [
        "### 4 слоя"
      ]
    },
    {
      "cell_type": "code",
      "execution_count": 125,
      "metadata": {
        "id": "F9B5VgkFzLvl"
      },
      "outputs": [],
      "source": [
        "init_vars = [5e-3, 1e-2, 1e-1, 'Kaiming', 'Xavier']\n",
        "accs_train = np.zeros((5, 5))\n",
        "accs_test = np.zeros((5, 5))\n",
        "exper_init(init_vars, 4)"
      ]
    },
    {
      "cell_type": "code",
      "execution_count": 126,
      "metadata": {
        "colab": {
          "base_uri": "https://localhost:8080/",
          "height": 369
        },
        "id": "HsXhmG9Bz7s_",
        "outputId": "6292cb25-b5ed-4886-8f54-768582ec2c13"
      },
      "outputs": [
        {
          "data": {
            "image/png": "[encoded data removed]",
            "text/plain": [
              "<Figure size 720x360 with 1 Axes>"
            ]
          },
          "metadata": {
            "needs_background": "light"
          },
          "output_type": "display_data"
        }
      ],
      "source": [
        "init_vars_for_plot = [(x if isinstance(x, str) else fr\"$\\sigma = {x}$\") for x in init_vars]\n",
        "\n",
        "fig, ax = plt.subplots(1, 1, figsize=(10, 5))\n",
        "\n",
        "ax.boxplot(accs_test.T, labels=init_vars_for_plot, showfliers=False)\n",
        "\n",
        "ax.set_title(\"Test quality in 5 runs\")\n",
        "ax.set_xlabel(\"Initialization\")\n",
        "ax.set_ylabel(\"Test accuracy\")\n",
        "ax.grid(True)\n",
        "\n",
        "fig.tight_layout()\n",
        "plt.show()"
      ]
    },
    {
      "cell_type": "markdown",
      "metadata": {
        "id": "u3wic2720KRo"
      },
      "source": [
        "### 5 слоев"
      ]
    },
    {
      "cell_type": "code",
      "execution_count": 127,
      "metadata": {
        "id": "X-OR5EuMz0Fu"
      },
      "outputs": [],
      "source": [
        "init_vars = [5e-3, 1e-2, 1e-1, 'Kaiming', 'Xavier']\n",
        "accs_train = np.zeros((5, 5))\n",
        "accs_test = np.zeros((5, 5))\n",
        "exper_init(init_vars, 5)"
      ]
    },
    {
      "cell_type": "code",
      "execution_count": 128,
      "metadata": {
        "colab": {
          "base_uri": "https://localhost:8080/",
          "height": 369
        },
        "id": "qPNemDhXz-Nr",
        "outputId": "cc5ca01a-a850-4c13-879d-16f6ff772613"
      },
      "outputs": [
        {
          "data": {
            "image/png": "[encoded data removed]",
            "text/plain": [
              "<Figure size 720x360 with 1 Axes>"
            ]
          },
          "metadata": {
            "needs_background": "light"
          },
          "output_type": "display_data"
        }
      ],
      "source": [
        "init_vars_for_plot = [(x if isinstance(x, str) else fr\"$\\sigma = {x}$\") for x in init_vars]\n",
        "\n",
        "fig, ax = plt.subplots(1, 1, figsize=(10, 5))\n",
        "\n",
        "ax.boxplot(accs_test.T, labels=init_vars_for_plot, showfliers=False)\n",
        "\n",
        "ax.set_title(\"Test quality in 5 runs\")\n",
        "ax.set_xlabel(\"Initialization\")\n",
        "ax.set_ylabel(\"Test accuracy\")\n",
        "ax.grid(True)\n",
        "\n",
        "fig.tight_layout()\n",
        "plt.show()"
      ]
    },
    {
      "cell_type": "markdown",
      "metadata": {
        "id": "ra11jfksT9jm"
      },
      "source": [
        "**Вывод:** одель с импульсным градиентным спуском более чувствительна к инициализации, чем LBFGS-B. Но также, как и у LBFGS-B, предпочтительнее использовать инициализацию Kaiming или Xavier."
      ]
    },
    {
      "cell_type": "code",
      "execution_count": 128,
      "metadata": {
        "id": "me4_XhfA0QPZ"
      },
      "outputs": [],
      "source": []
    },
    {
      "cell_type": "markdown",
      "metadata": {
        "id": "iMSCAf7Ei5WE"
      },
      "source": [
        "## Dropout (1 балл) \n",
        "\n",
        "Реализуйте слой Dropout. Сравните обучение сети из большого числа слоёв при использовании Dropout и без его использования (предварительно подберите адекватный параметр $p$). Сделайте выводы."
      ]
    },
    {
      "cell_type": "code",
      "execution_count": null,
      "metadata": {
        "colab": {
          "base_uri": "https://localhost:8080/",
          "height": 130
        },
        "id": "Pi1nXeI6C35Y",
        "outputId": "2a02362b-8a75-4a37-f88a-82f7338e614b"
      },
      "outputs": [
        {
          "ename": "IndentationError",
          "evalue": "ignored",
          "output_type": "error",
          "traceback": [
            "\u001b[0;36m  File \u001b[0;32m\"<ipython-input-431-946397dc7f1b>\"\u001b[0;36m, line \u001b[0;32m4\u001b[0m\n\u001b[0;31m    def fit():\u001b[0m\n\u001b[0m      ^\u001b[0m\n\u001b[0;31mIndentationError\u001b[0m\u001b[0;31m:\u001b[0m expected an indented block\n"
          ]
        }
      ],
      "source": [
        "class Dropout:\n",
        "    def __init__(self, ):\n",
        "\n",
        "    def fit():\n",
        "        "
      ]
    },
    {
      "cell_type": "markdown",
      "metadata": {
        "id": "JAeeTl-4i5WE"
      },
      "source": [
        "## BatchNormalization (1 балл)\n",
        "\n",
        "Реализуйте слой `BatchNormalization`. Сравните обучение сети из большого числа слоёв при использовании `BatchNormalization` и без его использования. Сделайте выводы."
      ]
    }
  ],
  "metadata": {
    "colab": {
      "name": "lab_01.ipynb",
      "provenance": []
    },
    "kernelspec": {
      "display_name": "Python 3",
      "language": "python",
      "name": "python3"
    },
    "language_info": {
      "codemirror_mode": {
        "name": "ipython",
        "version": 3
      },
      "file_extension": ".py",
      "mimetype": "text/x-python",
      "name": "python",
      "nbconvert_exporter": "python",
      "pygments_lexer": "ipython3",
      "version": "3.8.8"
    }
  },
  "nbformat": 4,
  "nbformat_minor": 0
}
